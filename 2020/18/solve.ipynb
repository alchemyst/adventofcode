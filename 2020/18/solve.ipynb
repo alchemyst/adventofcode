{
 "cells": [
  {
   "cell_type": "code",
   "execution_count": 308,
   "metadata": {},
   "outputs": [],
   "source": [
    "sums = []\n",
    "with open('input.txt') as f:\n",
    "    for line in f:\n",
    "        sums.append(line.strip())"
   ]
  },
  {
   "cell_type": "code",
   "execution_count": 286,
   "metadata": {},
   "outputs": [],
   "source": [
    "import re"
   ]
  },
  {
   "cell_type": "code",
   "execution_count": 287,
   "metadata": {},
   "outputs": [],
   "source": [
    "token = re.compile(r'([0-9]+|[+]|[*]|\\(|\\))')"
   ]
  },
  {
   "cell_type": "code",
   "execution_count": 288,
   "metadata": {},
   "outputs": [],
   "source": [
    "debug = False"
   ]
  },
  {
   "cell_type": "code",
   "execution_count": 289,
   "metadata": {},
   "outputs": [],
   "source": [
    "def evaluate(tokens, depth=0):\n",
    "    indent = '  '*depth\n",
    "    if debug: print(indent, tokens)\n",
    "    start = True\n",
    "    result = None\n",
    "    operator = None\n",
    "    i = 0\n",
    "    while i < len(tokens):\n",
    "        token = tokens[i]\n",
    "        if debug: print(indent, '-', token, start, result, operator)\n",
    "        if token.isdigit():\n",
    "            number = int(token)\n",
    "            if start:\n",
    "                result = number\n",
    "                start = False\n",
    "            else:\n",
    "                if operator == '+':\n",
    "                    result += number\n",
    "                elif operator == '*':\n",
    "                    result *= number\n",
    "        elif token in '*+':\n",
    "            operator = token\n",
    "        elif token == '(':\n",
    "            parens = 1\n",
    "            j = i+1\n",
    "            while parens > 0:\n",
    "                subtoken = tokens[j]\n",
    "                if subtoken == '(':\n",
    "                    parens += 1\n",
    "                if subtoken == ')':\n",
    "                    parens -= 1\n",
    "                j += 1\n",
    "            number = evaluate(tokens[i+1:j-1], depth+1)\n",
    "            i = j-1\n",
    "            if start:\n",
    "                result = number\n",
    "                start = False\n",
    "            else:\n",
    "                if operator == '+':\n",
    "                    result += number\n",
    "                elif operator == '*':\n",
    "                    result *= number   \n",
    "        i += 1\n",
    "    if debug: print(indent, '= ', result)\n",
    "    return result"
   ]
  },
  {
   "cell_type": "code",
   "execution_count": 290,
   "metadata": {},
   "outputs": [],
   "source": [
    "def tokenize(s):\n",
    "    return token.findall(s)"
   ]
  },
  {
   "cell_type": "code",
   "execution_count": 291,
   "metadata": {},
   "outputs": [
    {
     "data": {
      "text/plain": [
       "13632"
      ]
     },
     "execution_count": 291,
     "metadata": {},
     "output_type": "execute_result"
    }
   ],
   "source": [
    "evaluate(tokenize(s))"
   ]
  },
  {
   "cell_type": "code",
   "execution_count": 292,
   "metadata": {},
   "outputs": [],
   "source": [
    "expecteds = (26, 437, 12240, 13632)\n"
   ]
  },
  {
   "cell_type": "code",
   "execution_count": 293,
   "metadata": {},
   "outputs": [],
   "source": [
    "# run with test data\n",
    "# for s, e in zip(sums, expecteds):\n",
    "#     print(s)\n",
    "#     print(evaluate(tokenize(s)), e)"
   ]
  },
  {
   "cell_type": "code",
   "execution_count": 294,
   "metadata": {},
   "outputs": [],
   "source": [
    "def scanforclosing(tokens, location, open, closed, direction):\n",
    "    parens = 1\n",
    "    while parens > 0:\n",
    "        location += direction\n",
    "\n",
    "        if tokens[location] == open:\n",
    "            parens += 1\n",
    "        elif tokens[location] == closed:\n",
    "            parens -= 1\n",
    "            \n",
    "    return location"
   ]
  },
  {
   "cell_type": "code",
   "execution_count": 295,
   "metadata": {},
   "outputs": [],
   "source": [
    "tokens = tokenize('1 * 1 + 1 + 1')"
   ]
  },
  {
   "cell_type": "code",
   "execution_count": 296,
   "metadata": {},
   "outputs": [],
   "source": [
    "def addparens(tokens, location):\n",
    "    tokens = tokens.copy()\n",
    "#     print(tokens[location])\n",
    "    # add left paren\n",
    "    if tokens[location - 1].isdigit():\n",
    "        left = location - 1\n",
    "    elif tokens[location - 1] == ')':\n",
    "        left = scanforclosing(tokens, location - 1, ')', '(', -1)\n",
    "        \n",
    "    # add right paren\n",
    "    if tokens[location + 1].isdigit():\n",
    "        right = location + 1\n",
    "    else:\n",
    "        right = scanforclosing(tokens, location + 1, '(', ')', 1)\n",
    "\n",
    "    tokens.insert(left, '(')\n",
    "    tokens.insert(right+2, ')')\n",
    "    \n",
    "    return tokens"
   ]
  },
  {
   "cell_type": "code",
   "execution_count": 297,
   "metadata": {},
   "outputs": [],
   "source": [
    "def fixplus(tokens):\n",
    "    i = 0\n",
    "    while i < len(tokens):\n",
    "        if tokens[i] == '+':\n",
    "            tokens = addparens(tokens, i)\n",
    "            i += 1\n",
    "        \n",
    "        i += 1\n",
    "\n",
    "    return tokens"
   ]
  },
  {
   "cell_type": "code",
   "execution_count": 298,
   "metadata": {},
   "outputs": [
    {
     "data": {
      "text/plain": [
       "['1', '*', '1', '+', '1', '+', '1']"
      ]
     },
     "execution_count": 298,
     "metadata": {},
     "output_type": "execute_result"
    }
   ],
   "source": [
    "tokens"
   ]
  },
  {
   "cell_type": "code",
   "execution_count": 299,
   "metadata": {},
   "outputs": [
    {
     "data": {
      "text/plain": [
       "['1', '*', '(', '(', '1', '+', '1', ')', '+', '1', ')']"
      ]
     },
     "execution_count": 299,
     "metadata": {},
     "output_type": "execute_result"
    }
   ],
   "source": [
    "fixplus(tokens)"
   ]
  },
  {
   "cell_type": "code",
   "execution_count": 300,
   "metadata": {},
   "outputs": [
    {
     "data": {
      "text/plain": [
       "'((2 + 4 * 9) * (6 + 9 * 8 + 6) + 6) + 2 + 4 * 2'"
      ]
     },
     "execution_count": 300,
     "metadata": {},
     "output_type": "execute_result"
    }
   ],
   "source": [
    "s"
   ]
  },
  {
   "cell_type": "code",
   "execution_count": 301,
   "metadata": {},
   "outputs": [],
   "source": [
    "expecteds = (51, 46, 1445, 669060, 23340)\n"
   ]
  },
  {
   "cell_type": "code",
   "execution_count": 302,
   "metadata": {},
   "outputs": [],
   "source": [
    "s = '1 + 2 * 3 + 4 * 5 + 6'"
   ]
  },
  {
   "cell_type": "code",
   "execution_count": 303,
   "metadata": {},
   "outputs": [
    {
     "data": {
      "text/plain": [
       "'( 1 + 2 ) * ( 3 + 4 ) * ( 5 + 6 )'"
      ]
     },
     "execution_count": 303,
     "metadata": {},
     "output_type": "execute_result"
    }
   ],
   "source": [
    "' '.join(fixplus(tokenize(s)))"
   ]
  },
  {
   "cell_type": "code",
   "execution_count": 304,
   "metadata": {},
   "outputs": [
    {
     "data": {
      "text/plain": [
       "231"
      ]
     },
     "execution_count": 304,
     "metadata": {},
     "output_type": "execute_result"
    }
   ],
   "source": [
    "evaluate(fixplus(tokenize(s)))"
   ]
  },
  {
   "cell_type": "code",
   "execution_count": 307,
   "metadata": {},
   "outputs": [
    {
     "name": "stdout",
     "output_type": "stream",
     "text": [
      "9 + 3 * (9 * (9 + 3 + 5 * 3) * 5 * 3 * 5)\n",
      "=> ( 9 + 3 ) * ( 9 * ( ( ( 9 + 3 ) + 5 ) * 3 ) * 5 * 3 * 5 )\n",
      "413100 51\n",
      "5 + 9 * 7 + 5 + 7 + (6 * (4 * 9 + 5 * 7 + 7 + 7) * (7 * 7 + 9 * 5) * 6 + 4 * 9)\n",
      "=> ( 5 + 9 ) * ( ( ( 7 + 5 ) + 7 ) + ( 6 * ( 4 * ( 9 + 5 ) * ( ( 7 + 7 ) + 7 ) ) * ( 7 * ( 7 + 9 ) * 5 ) * ( 6 + 4 ) * 9 ) )\n",
      "4978713866 46\n",
      "3 + (5 * 3 + 5 + 5 * 2 + 2) * 8 * (7 * 7 * 7 * 2)\n",
      "=> ( 3 + ( 5 * ( ( 3 + 5 ) + 5 ) * ( 2 + 2 ) ) ) * 8 * ( 7 * 7 * 7 * 2 )\n",
      "1443344 1445\n",
      "(7 * (4 + 8 + 6)) + 5 + (5 * 6 + 6 + (6 * 7 + 7 + 3 * 6 + 3) * 5 * (5 + 6 * 8)) + 5 + 4\n",
      "=> ( ( ( ( ( 7 * ( ( ( 4 + 8 ) + 6 ) ) ) + 5 ) + ( 5 * ( ( 6 + 6 ) + ( 6 * ( ( 7 + 7 ) + 3 ) * ( 6 + 3 ) ) ) * 5 * ( ( 5 + 6 ) * 8 ) ) ) + 5 ) + 4 )\n",
      "2046140 669060\n",
      "(5 + 2 * (3 + 5 * 3 + 7 + 6 * 8) * 9 + 6) + (7 * 9 + 3 * 2 + 4) * 2 * 6\n",
      "=> ( ( ( 5 + 2 ) * ( ( 3 + 5 ) * ( ( 3 + 7 ) + 6 ) * 8 ) * ( 9 + 6 ) ) + ( 7 * ( 9 + 3 ) * ( 2 + 4 ) ) ) * 2 * 6\n",
      "1296288 23340\n"
     ]
    }
   ],
   "source": [
    "# run with test data\n",
    "for s, e in zip(sums, expecteds):\n",
    "    print(s)\n",
    "    tokens = fixplus(tokenize(s))\n",
    "    print('=>', ' '.join(tokens))\n",
    "    print(evaluate(tokens), e)"
   ]
  },
  {
   "cell_type": "code",
   "execution_count": 309,
   "metadata": {},
   "outputs": [
    {
     "data": {
      "text/plain": [
       "323802071857594"
      ]
     },
     "execution_count": 309,
     "metadata": {},
     "output_type": "execute_result"
    }
   ],
   "source": [
    "sum(evaluate(fixplus(tokenize(s))) for s in sums)"
   ]
  },
  {
   "cell_type": "code",
   "execution_count": null,
   "metadata": {},
   "outputs": [],
   "source": []
  }
 ],
 "metadata": {
  "kernelspec": {
   "display_name": "Python 3",
   "language": "python",
   "name": "python3"
  },
  "language_info": {
   "codemirror_mode": {
    "name": "ipython",
    "version": 3
   },
   "file_extension": ".py",
   "mimetype": "text/x-python",
   "name": "python",
   "nbconvert_exporter": "python",
   "pygments_lexer": "ipython3",
   "version": "3.7.7"
  }
 },
 "nbformat": 4,
 "nbformat_minor": 4
}
