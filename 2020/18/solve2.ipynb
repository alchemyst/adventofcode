{
 "cells": [
  {
   "cell_type": "markdown",
   "metadata": {},
   "source": [
    "# Part 1"
   ]
  },
  {
   "cell_type": "markdown",
   "metadata": {},
   "source": [
    "I wasn't happy with the first way I solved this by writing a custom parser and even worse re-using it with extra parens for the precidence question, so I re-tried it using a proper parser."
   ]
  },
  {
   "cell_type": "code",
   "execution_count": 91,
   "metadata": {},
   "outputs": [],
   "source": [
    "sums = []\n",
    "with open('input.txt') as f:\n",
    "    for line in f:\n",
    "        sums.append(line.strip())"
   ]
  },
  {
   "cell_type": "code",
   "execution_count": 92,
   "metadata": {},
   "outputs": [],
   "source": [
    "import parsley"
   ]
  },
  {
   "cell_type": "code",
   "execution_count": 93,
   "metadata": {},
   "outputs": [],
   "source": [
    "def calculate(start, pairs):\n",
    "    result = start\n",
    "    for op, value in pairs:\n",
    "        if op == '+':\n",
    "            result += value\n",
    "        elif op == '*':\n",
    "            result *= value\n",
    "    return result"
   ]
  },
  {
   "cell_type": "code",
   "execution_count": 164,
   "metadata": {},
   "outputs": [],
   "source": [
    "grammar = parsley.makeGrammar(\"\"\"\n",
    "number = <digit+>:ds -> int(ds)\n",
    "parens = '(' ws expr:e ws ')' -> e\n",
    "value = number | parens\n",
    "ws = ' '*\n",
    "add = '+' ws value:n -> ('+', n)\n",
    "mul = '*' ws value:n -> ('*', n)\n",
    "addmul = ws (add | mul)\n",
    "expr = value:left addmul*:right -> calculate(left, right)\n",
    "\"\"\", {'calculate': calculate})"
   ]
  },
  {
   "cell_type": "code",
   "execution_count": 165,
   "metadata": {},
   "outputs": [
    {
     "data": {
      "text/plain": [
       "3647606140187"
      ]
     },
     "execution_count": 165,
     "metadata": {},
     "output_type": "execute_result"
    }
   ],
   "source": [
    "sum(grammar(s).expr() for s in sums)"
   ]
  },
  {
   "cell_type": "markdown",
   "metadata": {},
   "source": [
    "# Part 2"
   ]
  },
  {
   "cell_type": "code",
   "execution_count": 162,
   "metadata": {},
   "outputs": [],
   "source": [
    "def calculate(start, pairs):\n",
    "    result = start\n",
    "    for op, value in pairs:\n",
    "        if op == '+':\n",
    "            result += value\n",
    "        elif op == '*':\n",
    "            result *= value\n",
    "    return result\n",
    "grammar2 = parsley.makeGrammar(\"\"\"\n",
    "number = <digit+>:ds -> int(ds)\n",
    "parens = '(' ws expr:e ws ')' -> e\n",
    "value = number | parens\n",
    "ws = ' '*\n",
    "add = '+' ws value:n -> ('+', n)\n",
    "mul = '*' ws expr2:n -> ('*', n)\n",
    "\n",
    "add_e = ws add\n",
    "mul_e = ws mul\n",
    "\n",
    "expr = expr2:left mul_e*:right -> calculate(left, right)\n",
    "expr2 = value:left add_e*:right -> calculate(left, right)\n",
    "\"\"\", {\"calculate\": calculate})"
   ]
  },
  {
   "cell_type": "code",
   "execution_count": 163,
   "metadata": {},
   "outputs": [
    {
     "data": {
      "text/plain": [
       "323802071857594"
      ]
     },
     "execution_count": 163,
     "metadata": {},
     "output_type": "execute_result"
    }
   ],
   "source": [
    "sum(grammar2(s).expr() for s in sums)"
   ]
  }
 ],
 "metadata": {
  "kernelspec": {
   "display_name": "Python 3",
   "language": "python",
   "name": "python3"
  },
  "language_info": {
   "codemirror_mode": {
    "name": "ipython",
    "version": 3
   },
   "file_extension": ".py",
   "mimetype": "text/x-python",
   "name": "python",
   "nbconvert_exporter": "python",
   "pygments_lexer": "ipython3",
   "version": "3.7.7"
  }
 },
 "nbformat": 4,
 "nbformat_minor": 4
}
