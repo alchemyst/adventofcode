{
 "cells": [
  {
   "cell_type": "code",
   "execution_count": 12,
   "metadata": {},
   "outputs": [],
   "source": [
    "with open('input.txt') as f:\n",
    "    numbers = [int(line.strip()) for line in f]"
   ]
  },
  {
   "cell_type": "code",
   "execution_count": 17,
   "metadata": {},
   "outputs": [],
   "source": [
    "from itertools import combinations"
   ]
  },
  {
   "cell_type": "code",
   "execution_count": 23,
   "metadata": {},
   "outputs": [
    {
     "name": "stdout",
     "output_type": "stream",
     "text": [
      "498 15690279\n"
     ]
    }
   ],
   "source": [
    "for i in range(25, len(numbers)):\n",
    "    number = numbers[i]\n",
    "    seeds = numbers[i-25:i]\n",
    "    if not any(number == a + b for a, b in combinations(seeds, 2)):\n",
    "        print(i, number)\n",
    "        break"
   ]
  },
  {
   "cell_type": "code",
   "execution_count": 29,
   "metadata": {},
   "outputs": [],
   "source": [
    "answer = 15690279"
   ]
  },
  {
   "cell_type": "code",
   "execution_count": 47,
   "metadata": {},
   "outputs": [
    {
     "name": "stdout",
     "output_type": "stream",
     "text": [
      "found 2174232\n"
     ]
    }
   ],
   "source": [
    "for start in range(len(numbers)-2):\n",
    "    for end in range(start+2, len(numbers)):\n",
    "        candidates = numbers[start:end]\n",
    "        if sum(candidates) == answer:\n",
    "            print('found', min(candidates) + max(candidates))\n",
    "            break"
   ]
  }
 ],
 "metadata": {
  "kernelspec": {
   "display_name": "Python 3",
   "language": "python",
   "name": "python3"
  },
  "language_info": {
   "codemirror_mode": {
    "name": "ipython",
    "version": 3
   },
   "file_extension": ".py",
   "mimetype": "text/x-python",
   "name": "python",
   "nbconvert_exporter": "python",
   "pygments_lexer": "ipython3",
   "version": "3.7.7"
  }
 },
 "nbformat": 4,
 "nbformat_minor": 4
}
