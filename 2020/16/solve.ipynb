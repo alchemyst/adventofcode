{
 "cells": [
  {
   "cell_type": "code",
   "execution_count": 1,
   "metadata": {},
   "outputs": [],
   "source": [
    "from collections import defaultdict"
   ]
  },
  {
   "cell_type": "code",
   "execution_count": 80,
   "metadata": {},
   "outputs": [],
   "source": [
    "ranges = defaultdict(list)\n",
    "state = 'header'\n",
    "nearbys = []\n",
    "with open('input.txt') as f:\n",
    "    for line in f:\n",
    "        line = line.strip()\n",
    "        if not line:\n",
    "            continue\n",
    "            \n",
    "        if line == 'your ticket:':\n",
    "            state = 'ticket'\n",
    "            continue\n",
    "            \n",
    "        if line == 'nearby tickets:':\n",
    "            state = 'nearby'\n",
    "            continue\n",
    "            \n",
    "        if state == 'header':\n",
    "            name, rangepairs = line.split(': ')\n",
    "            for rangepair in rangepairs.split(' or '):\n",
    "                lower, upper = map(int, rangepair.split('-'))\n",
    "                ranges[name].append((lower, upper))\n",
    "        elif state == 'ticket':\n",
    "            ticket = [int(v) for v in line.split(',')]\n",
    "        elif state == 'nearby':\n",
    "            nearbys.append([int(v) for v in line.split(',')])"
   ]
  },
  {
   "cell_type": "code",
   "execution_count": 81,
   "metadata": {},
   "outputs": [],
   "source": [
    "from itertools import chain"
   ]
  },
  {
   "cell_type": "code",
   "execution_count": 82,
   "metadata": {},
   "outputs": [],
   "source": [
    "error_rate = 0\n",
    "valid_nearbys = []\n",
    "for nearby in nearbys:\n",
    "    valid = True\n",
    "    for value in nearby:\n",
    "        for (lower, upper) in chain.from_iterable(ranges.values()):\n",
    "            if lower <= value <= upper:\n",
    "                break\n",
    "        else:\n",
    "            valid = False\n",
    "            error_rate += value\n",
    "    if valid:\n",
    "        valid_nearbys.append(nearby)"
   ]
  },
  {
   "cell_type": "code",
   "execution_count": 83,
   "metadata": {},
   "outputs": [
    {
     "data": {
      "text/plain": [
       "27870"
      ]
     },
     "execution_count": 83,
     "metadata": {},
     "output_type": "execute_result"
    }
   ],
   "source": [
    "error_rate"
   ]
  },
  {
   "cell_type": "code",
   "execution_count": 95,
   "metadata": {},
   "outputs": [],
   "source": [
    "validpositions = {}\n",
    "for field in ranges.keys():\n",
    "    validpositions[field] = set(range(len(nearby)))"
   ]
  },
  {
   "cell_type": "code",
   "execution_count": 96,
   "metadata": {},
   "outputs": [],
   "source": [
    "for nearby in valid_nearbys:\n",
    "    for position, value in enumerate(nearby):\n",
    "        for field, valuepairs in ranges.items():\n",
    "            for (lower, upper) in valuepairs:\n",
    "                if lower <= value <= upper:\n",
    "                    break\n",
    "            else:\n",
    "                validpositions[field] -= {position}"
   ]
  },
  {
   "cell_type": "code",
   "execution_count": 98,
   "metadata": {},
   "outputs": [],
   "source": [
    "changes = True\n",
    "while changes:\n",
    "    changes = False\n",
    "    for field in validpositions:\n",
    "        if len(validpositions[field]) == 1:\n",
    "            singleposition, = validpositions[field]\n",
    "            for otherfield in validpositions:\n",
    "                if field == otherfield:\n",
    "                    continue\n",
    "                if singleposition in validpositions[otherfield]:\n",
    "                    changes = True\n",
    "                    validpositions[otherfield] -= {singleposition}"
   ]
  },
  {
   "cell_type": "code",
   "execution_count": 99,
   "metadata": {},
   "outputs": [
    {
     "data": {
      "text/plain": [
       "{'departure location': {5},\n",
       " 'departure station': {18},\n",
       " 'departure platform': {17},\n",
       " 'departure track': {13},\n",
       " 'departure date': {10},\n",
       " 'departure time': {19},\n",
       " 'arrival location': {4},\n",
       " 'arrival station': {8},\n",
       " 'arrival platform': {11},\n",
       " 'arrival track': {6},\n",
       " 'class': {16},\n",
       " 'duration': {2},\n",
       " 'price': {0},\n",
       " 'route': {9},\n",
       " 'row': {12},\n",
       " 'seat': {3},\n",
       " 'train': {1},\n",
       " 'type': {15},\n",
       " 'wagon': {14},\n",
       " 'zone': {7}}"
      ]
     },
     "execution_count": 99,
     "metadata": {},
     "output_type": "execute_result"
    }
   ],
   "source": [
    "validpositions"
   ]
  },
  {
   "cell_type": "code",
   "execution_count": 106,
   "metadata": {},
   "outputs": [
    {
     "data": {
      "text/plain": [
       "[107,\n",
       " 109,\n",
       " 163,\n",
       " 127,\n",
       " 167,\n",
       " 157,\n",
       " 139,\n",
       " 67,\n",
       " 131,\n",
       " 59,\n",
       " 151,\n",
       " 53,\n",
       " 73,\n",
       " 83,\n",
       " 61,\n",
       " 89,\n",
       " 71,\n",
       " 149,\n",
       " 79,\n",
       " 137]"
      ]
     },
     "execution_count": 106,
     "metadata": {},
     "output_type": "execute_result"
    }
   ],
   "source": [
    "ticket"
   ]
  },
  {
   "cell_type": "code",
   "execution_count": 107,
   "metadata": {},
   "outputs": [],
   "source": [
    "prod = 1\n",
    "for k, (position,) in validpositions.items():\n",
    "    if k.startswith('departure'):\n",
    "        prod *= ticket[position]"
   ]
  },
  {
   "cell_type": "code",
   "execution_count": 108,
   "metadata": {},
   "outputs": [
    {
     "data": {
      "text/plain": [
       "3173135507987"
      ]
     },
     "execution_count": 108,
     "metadata": {},
     "output_type": "execute_result"
    }
   ],
   "source": [
    "prod"
   ]
  },
  {
   "cell_type": "code",
   "execution_count": null,
   "metadata": {},
   "outputs": [],
   "source": []
  }
 ],
 "metadata": {
  "kernelspec": {
   "display_name": "Python 3",
   "language": "python",
   "name": "python3"
  },
  "language_info": {
   "codemirror_mode": {
    "name": "ipython",
    "version": 3
   },
   "file_extension": ".py",
   "mimetype": "text/x-python",
   "name": "python",
   "nbconvert_exporter": "python",
   "pygments_lexer": "ipython3",
   "version": "3.7.7"
  }
 },
 "nbformat": 4,
 "nbformat_minor": 4
}
