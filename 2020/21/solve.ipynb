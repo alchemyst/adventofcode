{
 "cells": [
  {
   "cell_type": "code",
   "execution_count": 407,
   "metadata": {},
   "outputs": [],
   "source": [
    "from collections import defaultdict"
   ]
  },
  {
   "cell_type": "code",
   "execution_count": 408,
   "metadata": {},
   "outputs": [],
   "source": [
    "possibly_something = {}"
   ]
  },
  {
   "cell_type": "code",
   "execution_count": 423,
   "metadata": {},
   "outputs": [],
   "source": [
    "ingredientalergens = defaultdict(set)\n",
    "alergeningredients = defaultdict(set)\n",
    "\n",
    "allingredients = set()\n",
    "allalergens = set()\n",
    "\n",
    "recipes = []\n",
    "\n",
    "with open('input.txt') as f:\n",
    "    for line in f:\n",
    "        line = line.strip()\n",
    "        ingredientlist, containslist = line.split('(contains ')\n",
    "        ingredients = ingredientlist.strip().split()\n",
    "        alergens = containslist.rstrip(')').split(', ')\n",
    "\n",
    "        \n",
    "        recipes.append((set(ingredients), set(alergens)))\n",
    "        \n",
    "        allingredients.update(ingredients)\n",
    "        allalergens.update(alergens)\n",
    "        \n",
    "        for alergen in alergens:\n",
    "            alergen_ingredient_lists[alergen]\n",
    "\n",
    "            for ingredient in ingredients:\n",
    "                ingredientalergens[ingredient].add(alergen)\n",
    "                alergeningredients[alergen].add(ingredient)"
   ]
  },
  {
   "cell_type": "code",
   "execution_count": 411,
   "metadata": {},
   "outputs": [],
   "source": [
    "recipes_by_alergens = list(sorted(recipes, key=lambda x: len(x[1])))"
   ]
  },
  {
   "cell_type": "code",
   "execution_count": 437,
   "metadata": {},
   "outputs": [],
   "source": [
    "shortest_ingredients_by_alergens = {}\n",
    "for ingredients, alergens in recipes:\n",
    "    for alergen in alergens:\n",
    "        if alergen not in shortest_ingredients_by_alergens:\n",
    "            shortest_ingredients_by_alergens[alergen] = ingredients.copy()\n",
    "        else:\n",
    "            shortest_ingredients_by_alergens[alergen] &= ingredients\n"
   ]
  },
  {
   "cell_type": "code",
   "execution_count": 438,
   "metadata": {},
   "outputs": [
    {
     "data": {
      "text/plain": [
       "{'shellfish': {'bfgcms', 'fkcmf', 'ktpbgdn'},\n",
       " 'dairy': {'fkcmf', 'ktpbgdn'},\n",
       " 'eggs': {'hdqkqhh', 'ktpbgdn', 'pnpfjb'},\n",
       " 'peanuts': {'bfgcms', 'fkcmf', 'ndfb', 'pnpfjb', 'rdhljms'},\n",
       " 'wheat': {'fkcmf', 'hdqkqhh', 'ndfb'},\n",
       " 'sesame': {'xzfj'},\n",
       " 'fish': {'ndfb', 'xzfj'},\n",
       " 'soy': {'fkcmf', 'xzfj'}}"
      ]
     },
     "execution_count": 438,
     "metadata": {},
     "output_type": "execute_result"
    }
   ],
   "source": [
    "shortest_ingredients_by_alergens"
   ]
  },
  {
   "cell_type": "code",
   "execution_count": 439,
   "metadata": {},
   "outputs": [],
   "source": [
    "def assign_alergens(assigned, unassigned_ingredients, unassigned_alergens, level=0):\n",
    "    if len(unassigned_alergens) == 0:\n",
    "\n",
    "        for ingredients, alergens in recipes:\n",
    "            assigned_alergens = {assigned[ingredient] for ingredient in ingredients if ingredient in assigned}\n",
    "            if len(alergens - assigned_alergens) > 0:\n",
    "                return False\n",
    "        else:\n",
    "            return assigned\n",
    "                \n",
    "    for alergen in unassigned_alergens:\n",
    "        ingredients = shortest_ingredients_by_alergens[alergen]\n",
    "        for ingredient in unassigned_ingredients.intersection(ingredients):\n",
    "            new_assigned = assigned.copy()\n",
    "            new_assigned[ingredient] = alergen\n",
    "\n",
    "            result = assign_alergens(\n",
    "                new_assigned, \n",
    "                unassigned_ingredients - {ingredient},\n",
    "                unassigned_alergens - {alergen},\n",
    "                level=level+1\n",
    "            )\n",
    "            if result is not False:\n",
    "                return result\n",
    "        \n",
    "    return False"
   ]
  },
  {
   "cell_type": "code",
   "execution_count": 440,
   "metadata": {},
   "outputs": [],
   "source": [
    "unassigned_ingredients = allingredients\n",
    "unassigned_alergens = allalergens"
   ]
  },
  {
   "cell_type": "code",
   "execution_count": 441,
   "metadata": {},
   "outputs": [],
   "source": [
    "assignment = assign_alergens(assigned, unassigned_ingredients, unassigned_alergens)"
   ]
  },
  {
   "cell_type": "code",
   "execution_count": 442,
   "metadata": {},
   "outputs": [
    {
     "data": {
      "text/plain": [
       "{'hdqkqhh': 'wheat',\n",
       " 'ktpbgdn': 'dairy',\n",
       " 'fkcmf': 'soy',\n",
       " 'ndfb': 'fish',\n",
       " 'bfgcms': 'shellfish',\n",
       " 'rdhljms': 'peanuts',\n",
       " 'xzfj': 'sesame',\n",
       " 'pnpfjb': 'eggs'}"
      ]
     },
     "execution_count": 442,
     "metadata": {},
     "output_type": "execute_result"
    }
   ],
   "source": [
    "assignment"
   ]
  },
  {
   "cell_type": "markdown",
   "metadata": {},
   "source": [
    "Correct assignment:\n",
    "\n",
    "```\n",
    "{'mxmxvkd': 'dairy', 'sqjhc': 'fish', 'fvjkl': 'soy'}\n",
    "```"
   ]
  },
  {
   "cell_type": "code",
   "execution_count": 443,
   "metadata": {},
   "outputs": [],
   "source": [
    "unassigned = allingredients - set(assignment)"
   ]
  },
  {
   "cell_type": "code",
   "execution_count": 444,
   "metadata": {},
   "outputs": [],
   "source": [
    "count = 0\n",
    "for ingredient in unassigned:\n",
    "    for ingredients, alergens in recipes:\n",
    "        if ingredient in ingredients:\n",
    "            count += 1"
   ]
  },
  {
   "cell_type": "code",
   "execution_count": 445,
   "metadata": {},
   "outputs": [
    {
     "data": {
      "text/plain": [
       "2380"
      ]
     },
     "execution_count": 445,
     "metadata": {},
     "output_type": "execute_result"
    }
   ],
   "source": [
    "count"
   ]
  },
  {
   "cell_type": "code",
   "execution_count": 446,
   "metadata": {},
   "outputs": [
    {
     "data": {
      "text/plain": [
       "'ktpbgdn,pnpfjb,ndfb,rdhljms,xzfj,bfgcms,fkcmf,hdqkqhh'"
      ]
     },
     "execution_count": 446,
     "metadata": {},
     "output_type": "execute_result"
    }
   ],
   "source": [
    "','.join(x[0] for x in sorted(assignment.items(), key=lambda x: x[1]))"
   ]
  }
 ],
 "metadata": {
  "kernelspec": {
   "display_name": "Python 3",
   "language": "python",
   "name": "python3"
  },
  "language_info": {
   "codemirror_mode": {
    "name": "ipython",
    "version": 3
   },
   "file_extension": ".py",
   "mimetype": "text/x-python",
   "name": "python",
   "nbconvert_exporter": "python",
   "pygments_lexer": "ipython3",
   "version": "3.7.7"
  }
 },
 "nbformat": 4,
 "nbformat_minor": 4
}
