{
 "cells": [
  {
   "cell_type": "code",
   "execution_count": 108,
   "metadata": {},
   "outputs": [],
   "source": [
    "import numpy"
   ]
  },
  {
   "cell_type": "code",
   "execution_count": 109,
   "metadata": {},
   "outputs": [],
   "source": [
    "import scipy"
   ]
  },
  {
   "cell_type": "code",
   "execution_count": 110,
   "metadata": {},
   "outputs": [],
   "source": [
    "import scipy.signal"
   ]
  },
  {
   "cell_type": "code",
   "execution_count": 111,
   "metadata": {},
   "outputs": [],
   "source": [
    "def read_layout():\n",
    "    layout_str = [list(line.strip()) for line in open('input.txt')]\n",
    "    layout = numpy.array(layout_str)\n",
    "    \n",
    "    return layout"
   ]
  },
  {
   "cell_type": "code",
   "execution_count": 112,
   "metadata": {},
   "outputs": [],
   "source": [
    "region = numpy.array([[1, 1, 1],\n",
    "                      [1, 0, 1], \n",
    "                      [1, 1, 1]])"
   ]
  },
  {
   "cell_type": "code",
   "execution_count": 113,
   "metadata": {},
   "outputs": [],
   "source": [
    "def iteration(layout):\n",
    "    newlayout = layout.copy()\n",
    "\n",
    "    empty = layout == 'L'\n",
    "    occupied = layout == '#'\n",
    "\n",
    "    adjacent_occupieds = scipy.signal.convolve(occupied, region, mode='same')\n",
    "\n",
    "    newlayout[empty & (adjacent_occupieds == 0)] = '#'\n",
    "    newlayout[occupied & (adjacent_occupieds >= 4)] = 'L'\n",
    "\n",
    "    return newlayout, (newlayout == layout).all()"
   ]
  },
  {
   "cell_type": "code",
   "execution_count": 114,
   "metadata": {},
   "outputs": [],
   "source": [
    "converged = False\n",
    "iterations = 0\n",
    "while not converged:\n",
    "    iterations += 1 \n",
    "    layout, converged = iteration(layout)"
   ]
  },
  {
   "cell_type": "code",
   "execution_count": 115,
   "metadata": {},
   "outputs": [
    {
     "data": {
      "text/plain": [
       "1948"
      ]
     },
     "execution_count": 115,
     "metadata": {},
     "output_type": "execute_result"
    }
   ],
   "source": [
    "(layout == '#').sum()"
   ]
  },
  {
   "cell_type": "code",
   "execution_count": 116,
   "metadata": {},
   "outputs": [],
   "source": [
    "def show(layout):\n",
    "    for row in layout:\n",
    "        print(''.join(row))"
   ]
  },
  {
   "cell_type": "code",
   "execution_count": 118,
   "metadata": {},
   "outputs": [],
   "source": [
    "def first_seat(layout, i, j, di, dj):\n",
    "    i += di\n",
    "    j += dj\n",
    "    \n",
    "    rows, cols = layout.shape\n",
    "        \n",
    "    while (0 <= i < rows) and (0 <= j < cols):\n",
    "        if layout[i, j] == '#':\n",
    "            return 1\n",
    "        elif layout[i, j] == 'L':\n",
    "            return 0\n",
    "        \n",
    "        i += di\n",
    "        j += dj\n",
    "        \n",
    "    return 0    "
   ]
  },
  {
   "cell_type": "code",
   "execution_count": 44,
   "metadata": {},
   "outputs": [],
   "source": [
    "def seat_count(layout, i, j):\n",
    "    directions = (\n",
    "        (1, 1),\n",
    "        (1, 0),\n",
    "        (0, 1),\n",
    "        (-1, -1),\n",
    "        (-1, 0),\n",
    "        (0, -1),\n",
    "        (-1, 1),\n",
    "        (1, -1)\n",
    "    )\n",
    "    \n",
    "    return sum(first_seat(layout, i, j, di, dj) for di, dj in directions)"
   ]
  },
  {
   "cell_type": "code",
   "execution_count": 119,
   "metadata": {},
   "outputs": [],
   "source": [
    "def iteration(layout):\n",
    "    newlayout = layout.copy()\n",
    "\n",
    "    empty = layout == 'L'\n",
    "    occupied = layout == '#'\n",
    "\n",
    "    adjacent_occupieds = numpy.zeros(layout.shape)\n",
    "    for (i, j) in zip(*numpy.nonzero(empty | occupied)):\n",
    "        adjacent_occupieds[i, j] = seat_count(layout, i, j)\n",
    "\n",
    "    newlayout[empty & (adjacent_occupieds == 0)] = '#'\n",
    "    newlayout[occupied & (adjacent_occupieds >= 5)] = 'L'\n",
    "\n",
    "    return newlayout, (newlayout == layout).all()"
   ]
  },
  {
   "cell_type": "code",
   "execution_count": 122,
   "metadata": {},
   "outputs": [],
   "source": [
    "layout = read_layout()"
   ]
  },
  {
   "cell_type": "code",
   "execution_count": 123,
   "metadata": {},
   "outputs": [],
   "source": [
    "converged = False\n",
    "iterations = 0\n",
    "while not converged:\n",
    "    iterations += 1 \n",
    "    layout, converged = iteration(layout)\n",
    "#     show(layout)"
   ]
  },
  {
   "cell_type": "code",
   "execution_count": 124,
   "metadata": {},
   "outputs": [
    {
     "data": {
      "text/plain": [
       "1937"
      ]
     },
     "execution_count": 124,
     "metadata": {},
     "output_type": "execute_result"
    }
   ],
   "source": [
    "(layout == '#').sum()"
   ]
  },
  {
   "cell_type": "code",
   "execution_count": null,
   "metadata": {},
   "outputs": [],
   "source": []
  }
 ],
 "metadata": {
  "kernelspec": {
   "display_name": "Python 3",
   "language": "python",
   "name": "python3"
  },
  "language_info": {
   "codemirror_mode": {
    "name": "ipython",
    "version": 3
   },
   "file_extension": ".py",
   "mimetype": "text/x-python",
   "name": "python",
   "nbconvert_exporter": "python",
   "pygments_lexer": "ipython3",
   "version": "3.7.7"
  }
 },
 "nbformat": 4,
 "nbformat_minor": 4
}
