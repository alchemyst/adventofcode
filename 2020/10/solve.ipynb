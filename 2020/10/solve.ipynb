{
 "cells": [
  {
   "cell_type": "code",
   "execution_count": 183,
   "metadata": {},
   "outputs": [],
   "source": [
    "ratings = [int(line.strip()) for line in open('input.txt')]"
   ]
  },
  {
   "cell_type": "code",
   "execution_count": 184,
   "metadata": {},
   "outputs": [],
   "source": [
    "finaladapter = max(ratings) + 3"
   ]
  },
  {
   "cell_type": "code",
   "execution_count": 185,
   "metadata": {},
   "outputs": [
    {
     "data": {
      "text/plain": [
       "175"
      ]
     },
     "execution_count": 185,
     "metadata": {},
     "output_type": "execute_result"
    }
   ],
   "source": [
    "finaladapter"
   ]
  },
  {
   "cell_type": "code",
   "execution_count": 194,
   "metadata": {},
   "outputs": [],
   "source": [
    "def chain(ratings, startjoltage, workingchain):\n",
    "    if not ratings:\n",
    "        print(workingchain)\n",
    "        return [workingchain]\n",
    "    \n",
    "    solutions = []\n",
    "    for position in range(len(ratings)):\n",
    "        if 0 < ratings[position] - startjoltage <= 3:\n",
    "            thisrating = ratings[position]\n",
    "            candidate = chain(\n",
    "                ratings[:position] + ratings[position+1:], \n",
    "                thisrating,\n",
    "                workingchain + [thisrating]\n",
    "            )\n",
    "            if len(candidate) > 0:\n",
    "                solutions.append(candidate)\n",
    "        if ratings[position] - startjoltage > 3:\n",
    "            break\n",
    "        \n",
    "    return solutions"
   ]
  },
  {
   "cell_type": "code",
   "execution_count": 195,
   "metadata": {},
   "outputs": [],
   "source": [
    "from collections import defaultdict"
   ]
  },
  {
   "cell_type": "code",
   "execution_count": 196,
   "metadata": {},
   "outputs": [],
   "source": [
    "# workingchain = chain(\n",
    "#     list(sorted(ratings)), \n",
    "#     0, \n",
    "#     [0]\n",
    "# )"
   ]
  },
  {
   "cell_type": "code",
   "execution_count": 197,
   "metadata": {},
   "outputs": [],
   "source": [
    "thechain = [0] + list(sorted(ratings)) + [finaladapter]"
   ]
  },
  {
   "cell_type": "code",
   "execution_count": 198,
   "metadata": {},
   "outputs": [],
   "source": [
    "from functools import lru_cache"
   ]
  },
  {
   "cell_type": "code",
   "execution_count": 199,
   "metadata": {},
   "outputs": [],
   "source": [
    "def calcdiffs(thechain):\n",
    "    diffs = defaultdict(int)\n",
    "    for a, b in zip(thechain[:-1], thechain[1:]):\n",
    "        diff = b - a\n",
    "        diffs[diff] += 1\n",
    "    return diffs"
   ]
  },
  {
   "cell_type": "code",
   "execution_count": 200,
   "metadata": {},
   "outputs": [],
   "source": [
    "def pairs(l):\n",
    "    return zip(l[:-1], l[1:])"
   ]
  },
  {
   "cell_type": "code",
   "execution_count": 160,
   "metadata": {},
   "outputs": [],
   "source": [
    "def validsequence(sequence):\n",
    "    return all(b - a <= 3 for a,b in pairs(sequence))"
   ]
  },
  {
   "cell_type": "code",
   "execution_count": 201,
   "metadata": {},
   "outputs": [],
   "source": [
    "# working but very inefficient\n",
    "\n",
    "# def count_valid_removes(ratings, level=0):\n",
    "# #     print('level:', level)\n",
    "#     sequence = (0,) + ratings + (finaladapter,)\n",
    "# #     print(sequence)\n",
    "#     diffs =[b - a for a, b in pairs(sequence)]\n",
    "#     canremove = [True]*len(ratings)\n",
    "#     for i in range(1, len(ratings)):\n",
    "#         if diffs[i] == 3:\n",
    "#             canremove[i-1] = canremove[i] = False\n",
    "\n",
    "#     valids = 1\n",
    "    \n",
    "# #     print(ratings)\n",
    "# #     print(diffs)\n",
    "# #     print(canremove)\n",
    "    \n",
    "# #     if level == 2:\n",
    "# #         return 0\n",
    "\n",
    "#     for position in range(len(ratings)):\n",
    "#         if not canremove[position]:\n",
    "#             continue\n",
    "  \n",
    "# #         print(position)\n",
    "#         newratings = ratings[:position] + ratings[position+1:]\n",
    "# #         print(newratings)\n",
    "#         valids += count_valid_removes(newratings, level=level+1)\n",
    "    \n",
    "#     return valids"
   ]
  },
  {
   "cell_type": "code",
   "execution_count": 203,
   "metadata": {},
   "outputs": [],
   "source": [
    "# count_valid_removes(tuple(sorted(ratings)))"
   ]
  },
  {
   "cell_type": "code",
   "execution_count": 204,
   "metadata": {},
   "outputs": [],
   "source": [
    "from itertools import combinations"
   ]
  },
  {
   "cell_type": "markdown",
   "metadata": {},
   "source": [
    "The insight was that you can't remove any pairs of numbers which are 3 apart in the sorted list. This breaks the problem into chains which include these pairs on both ends."
   ]
  },
  {
   "cell_type": "code",
   "execution_count": 206,
   "metadata": {},
   "outputs": [],
   "source": [
    "def validways(ratings):\n",
    "    sortedsequence = [0] + list(sorted(ratings)) + [finaladapter]\n",
    "\n",
    "    breakpoints = [i+1 for i, (a, b) in enumerate(pairs(sortedsequence)) if b - a == 3]\n",
    "\n",
    "    groups = [0] + breakpoints + [len(sortedsequence)]\n",
    "\n",
    "    separatesequences = [sortedsequence[group[0]:group[1]] for group in pairs(groups)]\n",
    "\n",
    "    ways = 1\n",
    "    for sequence in separatesequences:\n",
    "        if len(sequence) in (1, 2):\n",
    "            continue\n",
    "\n",
    "        first, *middle, last = sequence\n",
    "        validcomb = 1\n",
    "        for nitems in range(len(middle)):\n",
    "            for comb in combinations(range(len(middle)), nitems):\n",
    "                newmiddle = [middle[i] for i in comb]\n",
    "                newsequence = [first, *newmiddle, last]\n",
    "                if validsequence(newsequence):\n",
    "                    validcomb += 1\n",
    "        ways *= validcomb\n",
    "    return ways"
   ]
  },
  {
   "cell_type": "code",
   "execution_count": 207,
   "metadata": {},
   "outputs": [
    {
     "data": {
      "text/plain": [
       "96717311574016"
      ]
     },
     "execution_count": 207,
     "metadata": {},
     "output_type": "execute_result"
    }
   ],
   "source": [
    "validways(ratings)"
   ]
  }
 ],
 "metadata": {
  "kernelspec": {
   "display_name": "Python 3",
   "language": "python",
   "name": "python3"
  },
  "language_info": {
   "codemirror_mode": {
    "name": "ipython",
    "version": 3
   },
   "file_extension": ".py",
   "mimetype": "text/x-python",
   "name": "python",
   "nbconvert_exporter": "python",
   "pygments_lexer": "ipython3",
   "version": "3.7.7"
  }
 },
 "nbformat": 4,
 "nbformat_minor": 4
}
