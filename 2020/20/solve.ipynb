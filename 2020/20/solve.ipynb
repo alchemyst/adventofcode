{
 "cells": [
  {
   "cell_type": "code",
   "execution_count": 294,
   "metadata": {},
   "outputs": [],
   "source": [
    "import numpy as np"
   ]
  },
  {
   "cell_type": "code",
   "execution_count": 540,
   "metadata": {},
   "outputs": [],
   "source": [
    "tiles = []\n",
    "tilenumbers = []\n",
    "\n",
    "with open('input.txt') as f:\n",
    "    state = 'name'\n",
    "    tile = []\n",
    "    tiles.append(tile)\n",
    "    \n",
    "    for line in f:\n",
    "        line = line.strip()\n",
    "        if not line:\n",
    "            state = 'name'\n",
    "            tile = []\n",
    "            tiles.append(tile)\n",
    "        elif state == 'name':\n",
    "            tilenumber = int(line.split()[1].rstrip(':'))\n",
    "            tilenumbers.append(tilenumber)\n",
    "            state = 'tile'\n",
    "        elif state == 'tile':\n",
    "            tile.append(list(line))           \n",
    "        "
   ]
  },
  {
   "cell_type": "code",
   "execution_count": 541,
   "metadata": {},
   "outputs": [
    {
     "data": {
      "text/plain": [
       "12"
      ]
     },
     "execution_count": 541,
     "metadata": {},
     "output_type": "execute_result"
    }
   ],
   "source": [
    "dim = int(np.sqrt(len(tiles)))\n",
    "dim"
   ]
  },
  {
   "cell_type": "code",
   "execution_count": 542,
   "metadata": {},
   "outputs": [],
   "source": [
    "tiles = [np.array(tile) for tile in tiles]"
   ]
  },
  {
   "cell_type": "code",
   "execution_count": 543,
   "metadata": {},
   "outputs": [],
   "source": [
    "tilesbynumber = dict(zip(tilenumbers, tiles))"
   ]
  },
  {
   "cell_type": "code",
   "execution_count": 544,
   "metadata": {},
   "outputs": [],
   "source": [
    "from itertools import product"
   ]
  },
  {
   "cell_type": "code",
   "execution_count": 545,
   "metadata": {},
   "outputs": [],
   "source": [
    "start = numpy.empty((dim, dim))"
   ]
  },
  {
   "cell_type": "code",
   "execution_count": 546,
   "metadata": {},
   "outputs": [],
   "source": [
    "availabletiles = set(tilenumbers)"
   ]
  },
  {
   "cell_type": "code",
   "execution_count": 547,
   "metadata": {},
   "outputs": [],
   "source": [
    "checkoffset = {\n",
    "    'U': (-1, 0),\n",
    "    'D': (1, 0),\n",
    "    'L': (0, -1),\n",
    "    'R': (0, 1)\n",
    "}"
   ]
  },
  {
   "cell_type": "code",
   "execution_count": 548,
   "metadata": {},
   "outputs": [],
   "source": [
    "def gettile(tilenumber, flip, rot):\n",
    "    tile = np.rot90(tilesbynumber[tilenumber], k=rot)\n",
    "    if flip:\n",
    "        tile = np.fliplr(tile)\n",
    "    return tile"
   ]
  },
  {
   "cell_type": "markdown",
   "metadata": {},
   "source": [
    "# Working solution, too slow on real data"
   ]
  },
  {
   "cell_type": "code",
   "execution_count": 549,
   "metadata": {},
   "outputs": [],
   "source": [
    "def layout(tilearray, availabletiles):\n",
    "#     print(availabletiles)\n",
    "#     print(tilearray)\n",
    "    i = 0\n",
    "    j = 0\n",
    "    arrangement = [[None for i in range(dim)] for j in range(dim)]\n",
    "    \n",
    "    for tilenumber, flip, rot in tilearray:\n",
    "        tile = gettile(tilenumber, flip, rot)\n",
    "        \n",
    "        arrangement[i][j] = tile\n",
    "        j += 1\n",
    "        if j == dim:\n",
    "            i += 1\n",
    "            j = 0\n",
    "        \n",
    "    for i, j in product(range(dim), repeat=2):\n",
    "        if arrangement[i][j] is None:\n",
    "            continue\n",
    "            \n",
    "        tile = arrangement[i][j]\n",
    "        \n",
    "        checks = []\n",
    "        if i > 0:\n",
    "            checks.append('U')\n",
    "        if i < dim - 1:\n",
    "            checks.append('D')\n",
    "        if j > 0:\n",
    "            checks.append('L')\n",
    "        if j < dim - 1:\n",
    "            checks.append('R')\n",
    "        \n",
    "        for check in checks:\n",
    "#             print(i, j)\n",
    "#             print(check)\n",
    "            otheri, otherj = checkoffset[check]\n",
    "    \n",
    "            othertile = arrangement[i + otheri][j + otherj]\n",
    "            \n",
    "            if othertile is None:\n",
    "                continue\n",
    "            \n",
    "#             print(i, j, otheri, otherj)\n",
    "#             print(check)\n",
    "#             print(tile)\n",
    "#             print(othertile)\n",
    "            \n",
    "            if check == 'U':\n",
    "                if not (othertile[-1, :] == tile[0, :]).all():\n",
    "                    return False\n",
    "            if check == 'D':\n",
    "                if not (othertile[0, :] == tile[-1, :]).all():\n",
    "                    return False\n",
    "            if check == 'L':\n",
    "                if not (othertile[:, -1] == tile[:, 0]).all():\n",
    "                    return False\n",
    "            if check == 'R':\n",
    "                if not (othertile[:, 0] == tile[:, -1]).all():\n",
    "                    return False\n",
    "\n",
    "    if not availabletiles:\n",
    "        return tilearray\n",
    "\n",
    "    for tilenumber in availabletiles:\n",
    "        for flip in (True, False):\n",
    "            for rot in range(4):\n",
    "                result = layout(tilearray + [(tilenumber, flip, rot)], availabletiles - {tilenumber})\n",
    "                if result:\n",
    "                    return result\n",
    "\n",
    "    return False"
   ]
  },
  {
   "cell_type": "code",
   "execution_count": 307,
   "metadata": {},
   "outputs": [],
   "source": [
    "solution = [1951, 2311, 3079, \n",
    "            2729, 1427, 2473,\n",
    "            2971, 1489, 1171]"
   ]
  },
  {
   "cell_type": "code",
   "execution_count": 308,
   "metadata": {},
   "outputs": [],
   "source": [
    "def printtile(tilenumber, flip, rot):\n",
    "    print('\\n'.join(''.join(c for c in row) for row in gettile(tilenumber, flip, rot)))"
   ]
  },
  {
   "cell_type": "code",
   "execution_count": 309,
   "metadata": {},
   "outputs": [],
   "source": [
    "arrangement = [\n",
    "(1951, True, 2),\n",
    "(2311, True, 2),\n",
    "(3079, False, 0),\n",
    "(2729, True, 2),\n",
    "(1427, True, 2),\n",
    "(2473, True, 1),\n",
    "(2971, True, 2),\n",
    "(1489, True, 2),\n",
    "(1171, True, 0),\n",
    "]"
   ]
  },
  {
   "cell_type": "code",
   "execution_count": 310,
   "metadata": {},
   "outputs": [
    {
     "data": {
      "text/plain": [
       "[(1951, True, 2),\n",
       " (2311, True, 2),\n",
       " (3079, False, 0),\n",
       " (2729, True, 2),\n",
       " (1427, True, 2),\n",
       " (2473, True, 1),\n",
       " (2971, True, 2),\n",
       " (1489, True, 2),\n",
       " (1171, True, 0)]"
      ]
     },
     "execution_count": 310,
     "metadata": {},
     "output_type": "execute_result"
    }
   ],
   "source": [
    "layout(arrangement, [])"
   ]
  },
  {
   "cell_type": "code",
   "execution_count": 311,
   "metadata": {},
   "outputs": [],
   "source": [
    "workinglayout = layout([], availabletiles)"
   ]
  },
  {
   "cell_type": "code",
   "execution_count": 312,
   "metadata": {},
   "outputs": [
    {
     "data": {
      "text/plain": [
       "{1171, 1427, 1489, 1951, 2311, 2473, 2729, 2971, 3079}"
      ]
     },
     "execution_count": 312,
     "metadata": {},
     "output_type": "execute_result"
    }
   ],
   "source": [
    "availabletiles"
   ]
  },
  {
   "cell_type": "markdown",
   "metadata": {},
   "source": [
    "# Try to go faster"
   ]
  },
  {
   "cell_type": "code",
   "execution_count": 550,
   "metadata": {},
   "outputs": [],
   "source": [
    "from collections import defaultdict"
   ]
  },
  {
   "cell_type": "code",
   "execution_count": 551,
   "metadata": {},
   "outputs": [],
   "source": [
    "leftedges = defaultdict(set)\n",
    "topedges = defaultdict(set)"
   ]
  },
  {
   "cell_type": "code",
   "execution_count": 552,
   "metadata": {},
   "outputs": [],
   "source": [
    "for tilenumber, tile in zip(tilenumbers, tiles):\n",
    "    for rot in range(4):\n",
    "        for flip in (True, False):\n",
    "            newtile = np.rot90(tile, rot)\n",
    "            if flip:\n",
    "                newtile = np.fliplr(newtile)\n",
    "                \n",
    "            leftedge = ''.join(newtile[:, 0])\n",
    "            topedge = ''.join(newtile[0, :])\n",
    "            leftedges[leftedge].add((tilenumber, flip, rot))\n",
    "            topedges[topedge].add((tilenumber, flip, rot))"
   ]
  },
  {
   "cell_type": "code",
   "execution_count": 553,
   "metadata": {},
   "outputs": [],
   "source": [
    "i, j = 0, 0"
   ]
  },
  {
   "cell_type": "code",
   "execution_count": 554,
   "metadata": {},
   "outputs": [],
   "source": [
    "available = {(tilenumber, flip, rot) \n",
    "             for tilenumber in tilenumbers \n",
    "             for flip in (True, False)\n",
    "             for rot in range(4) \n",
    "            }"
   ]
  },
  {
   "cell_type": "code",
   "execution_count": 555,
   "metadata": {},
   "outputs": [
    {
     "data": {
      "text/plain": [
       "1152"
      ]
     },
     "execution_count": 555,
     "metadata": {},
     "output_type": "execute_result"
    }
   ],
   "source": [
    "len(available)"
   ]
  },
  {
   "cell_type": "code",
   "execution_count": 583,
   "metadata": {},
   "outputs": [],
   "source": [
    "def build_layout(layout_tiles, layout_flip, layout_rot, i, j, available):\n",
    "    def triple(i, j):\n",
    "        return layout_tiles[i, j], layout_flip[i, j], layout_rot[i, j]\n",
    "\n",
    "    if not np.isnan(layout_tiles).any():\n",
    "        return layout_tiles, layout_flip, layout_rot\n",
    "    \n",
    "    possibletiles = available.copy()\n",
    "    if j > 0:\n",
    "        neighbour_left = gettile(*triple(i, j-1))\n",
    "        left_edge = ''.join(neighbour_left[:, -1])\n",
    "        possibletiles &= leftedges[left_edge]\n",
    "    if i > 0:\n",
    "        neighbour_above = gettile(*triple(i-1, j))\n",
    "        top_edge = ''.join(neighbour_above[-1, :])\n",
    "        possibletiles &= topedges[top_edge]\n",
    "            \n",
    "    if len(possibletiles) == 0:\n",
    "        return False\n",
    "        \n",
    "    for tile, flip, rot in possibletiles:\n",
    "        new_layout_tiles = layout_tiles.copy()\n",
    "        new_layout_rot = layout_rot.copy()\n",
    "        new_layout_flip = layout_flip.copy()\n",
    "\n",
    "        new_layout_tiles[i, j] = tile\n",
    "        new_layout_rot[i, j] = rot\n",
    "        new_layout_flip[i, j] = flip\n",
    "        \n",
    "        new_available = available - {\n",
    "            (tile, f, r) for f in (True, False) for r in range(4)}\n",
    "\n",
    "        next_j = j + 1\n",
    "        next_i = i\n",
    "        if next_j == dim:\n",
    "            next_j = 0\n",
    "            next_i = i + 1\n",
    "        \n",
    "        result = build_layout(\n",
    "            new_layout_tiles, \n",
    "            new_layout_flip, \n",
    "            new_layout_rot, \n",
    "            next_i, \n",
    "            next_j, \n",
    "            new_available)\n",
    "        if result is not False:\n",
    "            return result\n",
    "\n",
    "    return False"
   ]
  },
  {
   "cell_type": "code",
   "execution_count": 584,
   "metadata": {},
   "outputs": [],
   "source": [
    "layout_tiles = np.tile(np.nan, (dim, dim))\n",
    "layout_flip = np.tile(False, (dim, dim))\n",
    "layout_rot = np.tile(0, (dim, dim))"
   ]
  },
  {
   "cell_type": "code",
   "execution_count": 585,
   "metadata": {},
   "outputs": [],
   "source": [
    "# i = 0\n",
    "# j = 0\n",
    "# for tile, flip, rot in arrangement[:-2]:\n",
    "#     layout_tiles[i, j] = tile\n",
    "#     layout_flip[i, j] = flip\n",
    "#     layout_rot[i, j] = rot\n",
    "#     j += 1\n",
    "#     if j == dim:\n",
    "#         j = 0\n",
    "#         i += 1"
   ]
  },
  {
   "cell_type": "code",
   "execution_count": 587,
   "metadata": {},
   "outputs": [],
   "source": [
    "layout_tiles, layout_flip, layout_rot = build_layout(layout_tiles, layout_flip, layout_rot, 0, 0, available)"
   ]
  },
  {
   "cell_type": "code",
   "execution_count": 588,
   "metadata": {},
   "outputs": [
    {
     "data": {
      "text/plain": [
       "79412832860579.0"
      ]
     },
     "execution_count": 588,
     "metadata": {},
     "output_type": "execute_result"
    }
   ],
   "source": [
    "layout_tiles[0, 0]*layout_tiles[0, -1]*layout_tiles[-1, 0]*layout_tiles[-1, -1]"
   ]
  },
  {
   "cell_type": "markdown",
   "metadata": {},
   "source": [
    "# Part 2"
   ]
  },
  {
   "cell_type": "code",
   "execution_count": 575,
   "metadata": {},
   "outputs": [],
   "source": [
    "monster_str = \"\"\"                  # \n",
    "#    ##    ##    ###\n",
    " #  #  #  #  #  #   \"\"\"  "
   ]
  },
  {
   "cell_type": "code",
   "execution_count": 582,
   "metadata": {},
   "outputs": [],
   "source": [
    "monster_array = np.array([list(line) for line in monster_str.split('\\n')])\n",
    "monster = (monster_array == '#').astype(int)"
   ]
  },
  {
   "cell_type": "code",
   "execution_count": 596,
   "metadata": {},
   "outputs": [],
   "source": [
    "image = []\n",
    "for i in range(dim):\n",
    "    row = []\n",
    "    image.append(row)\n",
    "    for j in range(dim):\n",
    "        tile = gettile(layout_tiles[i, j], layout_flip[i, j], layout_rot[i, j])[1:-1, 1:-1]\n",
    "        row.append(tile)\n",
    "    \n",
    "\n",
    "image = (np.block(image) == '#').astype('int')"
   ]
  },
  {
   "cell_type": "code",
   "execution_count": 602,
   "metadata": {},
   "outputs": [],
   "source": [
    "import matplotlib.pyplot as plt"
   ]
  },
  {
   "cell_type": "code",
   "execution_count": 598,
   "metadata": {},
   "outputs": [
    {
     "data": {
      "text/plain": [
       "(96, 96)"
      ]
     },
     "execution_count": 598,
     "metadata": {},
     "output_type": "execute_result"
    }
   ],
   "source": [
    "image.shape"
   ]
  },
  {
   "cell_type": "code",
   "execution_count": 600,
   "metadata": {},
   "outputs": [
    {
     "data": {
      "text/plain": [
       "(3, 20)"
      ]
     },
     "execution_count": 600,
     "metadata": {},
     "output_type": "execute_result"
    }
   ],
   "source": [
    "monster.shape"
   ]
  },
  {
   "cell_type": "code",
   "execution_count": 606,
   "metadata": {},
   "outputs": [],
   "source": [
    "import scipy.signal"
   ]
  },
  {
   "cell_type": "code",
   "execution_count": 615,
   "metadata": {},
   "outputs": [
    {
     "name": "stdout",
     "output_type": "stream",
     "text": [
      "25\n"
     ]
    }
   ],
   "source": [
    "for rot in range(4):\n",
    "    for flip in (True, False):\n",
    "        flipped_image = np.rot90(image, rot)\n",
    "        if flip:\n",
    "            flipped_image = np.fliplr(flipped_image)\n",
    "            \n",
    "        monsters = (scipy.signal.convolve2d(flipped_image, monster) == monster.sum()).sum()\n",
    "        if monsters:\n",
    "            print(monsters)"
   ]
  },
  {
   "cell_type": "code",
   "execution_count": 617,
   "metadata": {},
   "outputs": [
    {
     "data": {
      "text/plain": [
       "2155"
      ]
     },
     "execution_count": 617,
     "metadata": {},
     "output_type": "execute_result"
    }
   ],
   "source": [
    "image.sum() - 25*monster.sum()"
   ]
  },
  {
   "cell_type": "code",
   "execution_count": null,
   "metadata": {},
   "outputs": [],
   "source": []
  }
 ],
 "metadata": {
  "kernelspec": {
   "display_name": "Python 3",
   "language": "python",
   "name": "python3"
  },
  "language_info": {
   "codemirror_mode": {
    "name": "ipython",
    "version": 3
   },
   "file_extension": ".py",
   "mimetype": "text/x-python",
   "name": "python",
   "nbconvert_exporter": "python",
   "pygments_lexer": "ipython3",
   "version": "3.7.7"
  }
 },
 "nbformat": 4,
 "nbformat_minor": 4
}
