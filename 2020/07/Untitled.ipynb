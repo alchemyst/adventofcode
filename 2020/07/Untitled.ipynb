{
 "cells": [
  {
   "cell_type": "code",
   "execution_count": null,
   "metadata": {},
   "outputs": [],
   "source": [
    "from collections import defaultdict\n",
    "\n",
    "contents = defaultdict(dict)\n",
    "fitsin = defaultdict(set)\n",
    "\n",
    "for line in open('input.txt'):\n",
    "    container, contains = line.strip().split(' contain ')\n",
    "    container = ' '.join(container.split()[:2])\n",
    "\n",
    "    for contain in contains.split(','):\n",
    "        parts = contain.strip().split()\n",
    "        if parts[0] == 'no':\n",
    "            continue\n",
    "        n = int(parts[0])\n",
    "        bag = ' '.join(parts[1:3])\n",
    "\n",
    "        contents[container][bag] = n\n",
    "        fitsin[bag].add(container)"
   ]
  },
  {
   "cell_type": "code",
   "execution_count": null,
   "metadata": {},
   "outputs": [],
   "source": [
    "fitsin['shiny gold']"
   ]
  },
  {
   "cell_type": "code",
   "execution_count": null,
   "metadata": {},
   "outputs": [],
   "source": [
    "checklist = ['shiny gold']\n",
    "\n",
    "answer_bags = set()\n",
    "\n",
    "while checklist:\n",
    "    bag_to_check = checklist.pop()\n",
    "    fits = fitsin[bag_to_check]\n",
    "    answer_bags.update(fits)\n",
    "    checklist += list(fits)"
   ]
  },
  {
   "cell_type": "code",
   "execution_count": null,
   "metadata": {},
   "outputs": [],
   "source": [
    "%debug"
   ]
  },
  {
   "cell_type": "code",
   "execution_count": null,
   "metadata": {},
   "outputs": [],
   "source": []
  }
 ],
 "metadata": {
  "kernelspec": {
   "display_name": "Python 3",
   "language": "python",
   "name": "python3"
  },
  "language_info": {
   "codemirror_mode": {
    "name": "ipython",
    "version": 3
   },
   "file_extension": ".py",
   "mimetype": "text/x-python",
   "name": "python",
   "nbconvert_exporter": "python",
   "pygments_lexer": "ipython3",
   "version": "3.7.7"
  }
 },
 "nbformat": 4,
 "nbformat_minor": 4
}
