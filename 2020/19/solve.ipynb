{
 "cells": [
  {
   "cell_type": "code",
   "execution_count": 133,
   "metadata": {},
   "outputs": [],
   "source": [
    "import re"
   ]
  },
  {
   "cell_type": "code",
   "execution_count": 134,
   "metadata": {},
   "outputs": [],
   "source": [
    "rules = {}"
   ]
  },
  {
   "cell_type": "code",
   "execution_count": 135,
   "metadata": {},
   "outputs": [],
   "source": [
    "match = []"
   ]
  },
  {
   "cell_type": "code",
   "execution_count": 136,
   "metadata": {},
   "outputs": [],
   "source": [
    "with open('input.txt') as f:\n",
    "    for line in f:\n",
    "        line = line.strip()\n",
    "        if not line:\n",
    "            break\n",
    "\n",
    "        ruleno, rule = line.split(': ')\n",
    "        rules[ruleno] = rule.split()\n",
    "        \n",
    "    for line in f:\n",
    "        match.append(line.strip())"
   ]
  },
  {
   "cell_type": "code",
   "execution_count": 137,
   "metadata": {},
   "outputs": [],
   "source": [
    "def restr(rule, level=0):  \n",
    "#     print(' '*level, rule)\n",
    "    if isinstance(rule, str):\n",
    "        if rule.startswith('\"'):\n",
    "            return rule.strip('\"')\n",
    "        elif rule.isdigit():\n",
    "            return restr(rules[rule], level+1)\n",
    "        else:\n",
    "            raise ValueError()\n",
    "            \n",
    "    if '|' in rule:\n",
    "        i = rule.index('|')\n",
    "        return f\"({restr(rule[0:i], level+1)}|{restr(rule[i+1:], level+1)})\"\n",
    "        \n",
    "    return ''.join(restr(part, level+1) for part in rule)"
   ]
  },
  {
   "cell_type": "code",
   "execution_count": 138,
   "metadata": {},
   "outputs": [],
   "source": [
    "matcher = re.compile('^' + restr(rules['0']) + '$')"
   ]
  },
  {
   "cell_type": "code",
   "execution_count": 139,
   "metadata": {},
   "outputs": [],
   "source": [
    "count = 0"
   ]
  },
  {
   "cell_type": "code",
   "execution_count": 140,
   "metadata": {},
   "outputs": [],
   "source": [
    "for test in match:\n",
    "    m = matcher.match(test)\n",
    "    if m:\n",
    "        count += 1"
   ]
  },
  {
   "cell_type": "code",
   "execution_count": 141,
   "metadata": {},
   "outputs": [
    {
     "name": "stdout",
     "output_type": "stream",
     "text": [
      "129\n"
     ]
    }
   ],
   "source": [
    "print(count)"
   ]
  },
  {
   "cell_type": "markdown",
   "metadata": {},
   "source": [
    "# Part 2"
   ]
  },
  {
   "cell_type": "code",
   "execution_count": 149,
   "metadata": {},
   "outputs": [],
   "source": [
    "def restr(rule, level=0):  \n",
    "#     print(' '*level, rule)\n",
    "    if isinstance(rule, str):\n",
    "        if rule.startswith('\"'):\n",
    "            return rule.strip('\"')\n",
    "        elif rule.isdigit():\n",
    "            if rule == '8':\n",
    "                rule42 = restr('42')\n",
    "                return f'({rule42})+'\n",
    "            if rule == '11':\n",
    "                rule42 = restr('42')\n",
    "                rule31 = restr('31')\n",
    "                rulematches = []\n",
    "                for i in range(1, 20):\n",
    "                    rulematches.append(f'({rule42}){{{i}}}({rule31}){{{i}}}')\n",
    "                return '(' + '|'.join(rulematches) + ')'\n",
    "            return restr(rules[rule], level+1)\n",
    "        else:\n",
    "            raise ValueError()\n",
    "            \n",
    "    if '|' in rule:\n",
    "        i = rule.index('|')\n",
    "        return f\"({restr(rule[0:i], level+1)}|{restr(rule[i+1:], level+1)})\"\n",
    "        \n",
    "    return ''.join(restr(part, level+1) for part in rule)"
   ]
  },
  {
   "cell_type": "code",
   "execution_count": 150,
   "metadata": {},
   "outputs": [],
   "source": [
    "matcher = re.compile('^' + restr(rules['0']) + '$')"
   ]
  },
  {
   "cell_type": "code",
   "execution_count": 151,
   "metadata": {},
   "outputs": [],
   "source": [
    "count = 0"
   ]
  },
  {
   "cell_type": "code",
   "execution_count": 152,
   "metadata": {},
   "outputs": [],
   "source": [
    "for test in match:\n",
    "    m = matcher.match(test)\n",
    "    if m:\n",
    "        count += 1\n",
    "#         print(test)"
   ]
  },
  {
   "cell_type": "code",
   "execution_count": 153,
   "metadata": {},
   "outputs": [
    {
     "name": "stdout",
     "output_type": "stream",
     "text": [
      "243\n"
     ]
    }
   ],
   "source": [
    "print(count)"
   ]
  },
  {
   "cell_type": "code",
   "execution_count": null,
   "metadata": {},
   "outputs": [],
   "source": []
  }
 ],
 "metadata": {
  "kernelspec": {
   "display_name": "Python 3",
   "language": "python",
   "name": "python3"
  },
  "language_info": {
   "codemirror_mode": {
    "name": "ipython",
    "version": 3
   },
   "file_extension": ".py",
   "mimetype": "text/x-python",
   "name": "python",
   "nbconvert_exporter": "python",
   "pygments_lexer": "ipython3",
   "version": "3.7.7"
  }
 },
 "nbformat": 4,
 "nbformat_minor": 4
}
