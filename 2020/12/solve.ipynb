{
 "cells": [
  {
   "cell_type": "code",
   "execution_count": 98,
   "metadata": {},
   "outputs": [],
   "source": [
    "instructions = [(line[0], int(line[1:-1])) for line in open('input.txt') ]"
   ]
  },
  {
   "cell_type": "code",
   "execution_count": 55,
   "metadata": {},
   "outputs": [],
   "source": [
    "import numpy"
   ]
  },
  {
   "cell_type": "code",
   "execution_count": 56,
   "metadata": {},
   "outputs": [],
   "source": [
    "np = numpy"
   ]
  },
  {
   "cell_type": "code",
   "execution_count": 57,
   "metadata": {},
   "outputs": [],
   "source": [
    "position = numpy.array([0, 0])"
   ]
  },
  {
   "cell_type": "code",
   "execution_count": 58,
   "metadata": {},
   "outputs": [],
   "source": [
    "dirs = {\n",
    "    'N': [0, 1],\n",
    "    'S': [0, -1],\n",
    "    'E': [1, 0],\n",
    "    'W': [-1, 0],\n",
    "}\n",
    "for item in dirs:\n",
    "    dirs[item] = numpy.array(dirs[item])"
   ]
  },
  {
   "cell_type": "code",
   "execution_count": 59,
   "metadata": {},
   "outputs": [
    {
     "data": {
      "text/plain": [
       "{'N': array([0, 1]),\n",
       " 'S': array([ 0, -1]),\n",
       " 'E': array([1, 0]),\n",
       " 'W': array([-1,  0])}"
      ]
     },
     "execution_count": 59,
     "metadata": {},
     "output_type": "execute_result"
    }
   ],
   "source": [
    "dirs"
   ]
  },
  {
   "cell_type": "markdown",
   "metadata": {},
   "source": [
    "# Part 1"
   ]
  },
  {
   "cell_type": "code",
   "execution_count": 63,
   "metadata": {},
   "outputs": [],
   "source": [
    "position = np.array([0, 0])"
   ]
  },
  {
   "cell_type": "code",
   "execution_count": 64,
   "metadata": {},
   "outputs": [],
   "source": [
    "direction = np.array([1, 0])"
   ]
  },
  {
   "cell_type": "code",
   "execution_count": 65,
   "metadata": {},
   "outputs": [],
   "source": [
    "for instruction, argument in instructions:\n",
    "    if instruction in dirs:\n",
    "        position = position + argument*dirs[instruction]\n",
    "    elif instruction == 'F':\n",
    "        position = position + argument*direction\n",
    "    elif instruction in ['L', 'R']:\n",
    "        sense = 1 if instruction == 'L' else -1\n",
    "        theta = sense*np.radians(argument)\n",
    "        c, s = np.cos(theta), np.sin(theta)\n",
    "        R = np.array(((c, -s), (s, c)))\n",
    "\n",
    "        direction = R @ direction\n",
    "        \n",
    "#     print(instruction, argument, position, direction)"
   ]
  },
  {
   "cell_type": "code",
   "execution_count": 67,
   "metadata": {},
   "outputs": [
    {
     "data": {
      "text/plain": [
       "420.00000000000034"
      ]
     },
     "execution_count": 67,
     "metadata": {},
     "output_type": "execute_result"
    }
   ],
   "source": [
    "np.abs(position).sum()"
   ]
  },
  {
   "cell_type": "markdown",
   "metadata": {},
   "source": [
    "# Part 2"
   ]
  },
  {
   "cell_type": "code",
   "execution_count": 104,
   "metadata": {},
   "outputs": [],
   "source": [
    "waypoint_delta = np.array([10, 1])"
   ]
  },
  {
   "cell_type": "code",
   "execution_count": 105,
   "metadata": {},
   "outputs": [],
   "source": [
    "ship_position = np.array([0, 0])"
   ]
  },
  {
   "cell_type": "code",
   "execution_count": 106,
   "metadata": {},
   "outputs": [],
   "source": [
    "for instruction, argument in instructions:\n",
    "    if instruction in dirs:\n",
    "        waypoint_delta = waypoint_delta + argument*dirs[instruction]\n",
    "    elif instruction == 'F':\n",
    "        ship_position = ship_position + argument*waypoint_delta\n",
    "    elif instruction in ['L', 'R']:\n",
    "        sense = 1 if instruction == 'L' else -1\n",
    "        theta = sense*np.radians(argument)\n",
    "        c, s = np.cos(theta), np.sin(theta)\n",
    "        R = np.array(((c, -s), (s, c)))\n",
    "\n",
    "        waypoint_delta = R @ waypoint_delta\n",
    "        \n",
    "#     print(instruction, argument)\n",
    "#     print('waypoint_delta:', waypoint_delta)\n",
    "#     print('ship_position:', ship_position)"
   ]
  },
  {
   "cell_type": "code",
   "execution_count": 107,
   "metadata": {},
   "outputs": [
    {
     "data": {
      "text/plain": [
       "42073.0"
      ]
     },
     "execution_count": 107,
     "metadata": {},
     "output_type": "execute_result"
    }
   ],
   "source": [
    "np.abs(ship_position).sum()"
   ]
  },
  {
   "cell_type": "code",
   "execution_count": null,
   "metadata": {},
   "outputs": [],
   "source": []
  }
 ],
 "metadata": {
  "kernelspec": {
   "display_name": "Python 3",
   "language": "python",
   "name": "python3"
  },
  "language_info": {
   "codemirror_mode": {
    "name": "ipython",
    "version": 3
   },
   "file_extension": ".py",
   "mimetype": "text/x-python",
   "name": "python",
   "nbconvert_exporter": "python",
   "pygments_lexer": "ipython3",
   "version": "3.7.7"
  }
 },
 "nbformat": 4,
 "nbformat_minor": 4
}
