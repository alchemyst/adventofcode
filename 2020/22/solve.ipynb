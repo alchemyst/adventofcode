{
 "cells": [
  {
   "cell_type": "code",
   "execution_count": 74,
   "metadata": {},
   "outputs": [],
   "source": [
    "def read(filename):\n",
    "    decks = []\n",
    "\n",
    "\n",
    "    state = 'player'\n",
    "\n",
    "    with open(filename) as f:\n",
    "        for line in f:\n",
    "            line = line.strip()\n",
    "            if not line:\n",
    "                state = 'player'\n",
    "                continue\n",
    "\n",
    "            if state == 'player':\n",
    "                deck = []\n",
    "                decks.append(deck)\n",
    "                state = 'cards'\n",
    "            elif state == 'cards':\n",
    "                deck.append(int(line))    \n",
    "\n",
    "    return decks"
   ]
  },
  {
   "cell_type": "markdown",
   "metadata": {},
   "source": [
    "# Part 1"
   ]
  },
  {
   "cell_type": "code",
   "execution_count": 75,
   "metadata": {},
   "outputs": [],
   "source": [
    "decks = read('input.txt')"
   ]
  },
  {
   "cell_type": "code",
   "execution_count": 76,
   "metadata": {},
   "outputs": [],
   "source": [
    "debug = False"
   ]
  },
  {
   "cell_type": "code",
   "execution_count": 77,
   "metadata": {},
   "outputs": [],
   "source": [
    "def printdecks(decks):\n",
    "    for player, deck in enumerate(decks, 1):\n",
    "        if debug: print(f\"Player {player}'s deck: {', '.join(str(i) for i in deck)}\")"
   ]
  },
  {
   "cell_type": "code",
   "execution_count": 78,
   "metadata": {},
   "outputs": [],
   "source": [
    "round = 1\n",
    "while True:\n",
    "    if debug: print(f'-- Round {round} --')\n",
    "    printdecks(decks)\n",
    "    tops = [deck.pop(0) for deck in decks]\n",
    "    for player, top in enumerate(tops, 1):\n",
    "        if debug: print(f\"Player {player} plays: {top}\")\n",
    "        \n",
    "    winner = tops.index(max(tops))\n",
    "    if debug: print(f'Player {winner + 1} wins the round!')\n",
    "    if debug: print()\n",
    "\n",
    "    tops.sort(reverse=True)\n",
    "    \n",
    "    decks[winner] += tops\n",
    "    \n",
    "    if any(len(deck) == 0 for deck in decks):\n",
    "        break\n",
    "        \n",
    "    round += 1\n",
    "    \n",
    "if debug: print('== Post-game results ==')\n",
    "if debug: printdecks(decks)"
   ]
  },
  {
   "cell_type": "code",
   "execution_count": 79,
   "metadata": {},
   "outputs": [],
   "source": [
    "winning_deck = max(decks, key=len)"
   ]
  },
  {
   "cell_type": "code",
   "execution_count": 80,
   "metadata": {},
   "outputs": [],
   "source": [
    "def score(winning_deck):\n",
    "    return sum(position*card for position, card in enumerate(reversed(winning_deck), 1))"
   ]
  },
  {
   "cell_type": "code",
   "execution_count": 81,
   "metadata": {},
   "outputs": [
    {
     "data": {
      "text/plain": [
       "32199"
      ]
     },
     "execution_count": 81,
     "metadata": {},
     "output_type": "execute_result"
    }
   ],
   "source": [
    "score(winning_deck)"
   ]
  },
  {
   "cell_type": "markdown",
   "metadata": {},
   "source": [
    "# Part 2 recursive combat"
   ]
  },
  {
   "cell_type": "code",
   "execution_count": 241,
   "metadata": {},
   "outputs": [],
   "source": [
    "decks = read('input.txt')"
   ]
  },
  {
   "cell_type": "code",
   "execution_count": 242,
   "metadata": {},
   "outputs": [],
   "source": [
    "def make_hashable(decks):\n",
    "    return tuple(tuple(deck) for deck in decks)"
   ]
  },
  {
   "cell_type": "code",
   "execution_count": 243,
   "metadata": {},
   "outputs": [],
   "source": [
    "def add_tops(tops, decks, winner):\n",
    "    newcards = [tops[winner], *tops[:winner], *tops[winner+1:]]\n",
    "    return [deck + (newcards if position == winner else [])\n",
    "            for position, deck in enumerate(decks)]"
   ]
  },
  {
   "cell_type": "code",
   "execution_count": 244,
   "metadata": {},
   "outputs": [],
   "source": [
    "debug = False"
   ]
  },
  {
   "cell_type": "code",
   "execution_count": 248,
   "metadata": {},
   "outputs": [],
   "source": [
    "def recursivecombat(decks, game=1):\n",
    "    seengames = set()\n",
    "    \n",
    "    if debug: \n",
    "        print(f'=== Game {game} ===')\n",
    "        \n",
    "    round = 1\n",
    "    while True:\n",
    "        if debug: \n",
    "            print(f'-- Round {round} (Game {game}) --')\n",
    "        printdecks(decks)\n",
    "\n",
    "        immutable_decks = make_hashable(decks)\n",
    "\n",
    "        if immutable_decks in seengames:\n",
    "            return 0, immutable_decks\n",
    "\n",
    "        seengames.add(immutable_decks)\n",
    "\n",
    "        tops, decks = zip(*[[top, rest] for top, *rest in decks])\n",
    "        for player, top in enumerate(tops, 1):\n",
    "            if debug: print(f\"Player {player} plays: {top}\")\n",
    "\n",
    "                \n",
    "        if any(len(deck) < top for top, deck in zip(tops, decks)):\n",
    "            winner = tops.index(max(tops))\n",
    "        else:\n",
    "            if debug: print('Playing a sub-game to determine the winner...')\n",
    "            deck_copy = [deck[:top] for deck, top in zip(decks, tops)]\n",
    "            winner, winning_decks = recursivecombat(deck_copy, game + 1)\n",
    "            if debug: print(f'...anyway, back to game {game}.')\n",
    "\n",
    "        if debug: print(f'Player {winner + 1} wins round {round} of game {game}!')\n",
    "        if debug: print()\n",
    "\n",
    "        decks = add_tops(tops, decks, winner)\n",
    "\n",
    "        if any(len(deck) == 0 for deck in decks):\n",
    "            if debug: print(f'The winner of game {game} is player {winner + 1}')\n",
    "            return winner, decks\n",
    "            \n",
    "        round += 1"
   ]
  },
  {
   "cell_type": "code",
   "execution_count": 249,
   "metadata": {},
   "outputs": [],
   "source": [
    "winner, final_decks = recursivecombat(decks)\n",
    "if debug: print('== Post-game results ==')\n",
    "if debug: printdecks(final_decks)"
   ]
  },
  {
   "cell_type": "code",
   "execution_count": 250,
   "metadata": {},
   "outputs": [
    {
     "data": {
      "text/plain": [
       "33780"
      ]
     },
     "execution_count": 250,
     "metadata": {},
     "output_type": "execute_result"
    }
   ],
   "source": [
    "score(final_decks[winner])"
   ]
  },
  {
   "cell_type": "code",
   "execution_count": null,
   "metadata": {},
   "outputs": [],
   "source": []
  }
 ],
 "metadata": {
  "kernelspec": {
   "display_name": "Python 3",
   "language": "python",
   "name": "python3"
  },
  "language_info": {
   "codemirror_mode": {
    "name": "ipython",
    "version": 3
   },
   "file_extension": ".py",
   "mimetype": "text/x-python",
   "name": "python",
   "nbconvert_exporter": "python",
   "pygments_lexer": "ipython3",
   "version": "3.7.7"
  }
 },
 "nbformat": 4,
 "nbformat_minor": 4
}
