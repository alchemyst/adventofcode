{
 "cells": [
  {
   "cell_type": "code",
   "execution_count": 42,
   "metadata": {},
   "outputs": [],
   "source": [
    "from collections import defaultdict"
   ]
  },
  {
   "cell_type": "code",
   "execution_count": 51,
   "metadata": {},
   "outputs": [],
   "source": [
    "from collections import Counter"
   ]
  },
  {
   "cell_type": "code",
   "execution_count": 52,
   "metadata": {},
   "outputs": [],
   "source": [
    "memory = defaultdict(int)\n",
    "positions = []\n",
    "with open('input.txt') as f:\n",
    "    for line in f:\n",
    "        if 'mask' in line:\n",
    "            mask = line.strip().split(' = ')[1]\n",
    "            zeromask = int(''.join('0' if m == '0' else '1' for m in mask), 2)\n",
    "            onemask = int(''.join('1' if m == '1' else '0' for m in mask), 2)\n",
    "\n",
    "            continue\n",
    "            \n",
    "        position, value = line.strip().split(' = ')\n",
    "        position = int(position.split('[')[1][:-1])\n",
    "        value = int(value)\n",
    "\n",
    "        maskedvalue = (value & zeromask) | onemask\n",
    "        memory[position] = maskedvalue\n",
    "        \n",
    "        positions.append(position)"
   ]
  },
  {
   "cell_type": "code",
   "execution_count": 49,
   "metadata": {},
   "outputs": [
    {
     "data": {
      "text/plain": [
       "9615006043476"
      ]
     },
     "execution_count": 49,
     "metadata": {},
     "output_type": "execute_result"
    }
   ],
   "source": [
    "sum(memory.values())"
   ]
  },
  {
   "cell_type": "markdown",
   "metadata": {},
   "source": [
    "Let's see if memory gets overwritten"
   ]
  },
  {
   "cell_type": "code",
   "execution_count": 58,
   "metadata": {},
   "outputs": [],
   "source": [
    "c = Counter(positions)"
   ]
  },
  {
   "cell_type": "code",
   "execution_count": 59,
   "metadata": {},
   "outputs": [
    {
     "data": {
      "text/plain": [
       "[(45359, 3)]"
      ]
     },
     "execution_count": 59,
     "metadata": {},
     "output_type": "execute_result"
    }
   ],
   "source": [
    "c.most_common(1)"
   ]
  },
  {
   "cell_type": "markdown",
   "metadata": {},
   "source": [
    "yup"
   ]
  },
  {
   "cell_type": "markdown",
   "metadata": {},
   "source": [
    "let's try a quick one"
   ]
  },
  {
   "cell_type": "code",
   "execution_count": 61,
   "metadata": {},
   "outputs": [],
   "source": [
    "values = []"
   ]
  },
  {
   "cell_type": "code",
   "execution_count": 63,
   "metadata": {},
   "outputs": [],
   "source": [
    "memory = defaultdict(int)\n",
    "with open('input.txt') as f:\n",
    "    for line in f:\n",
    "        if 'mask' in line:\n",
    "            mask = line.strip().split(' = ')[1]\n",
    "\n",
    "            continue\n",
    "            \n",
    "        position, value = line.strip().split(' = ')\n",
    "        position = int(position.split('[')[1][:-1])\n",
    "        value = int(value)\n",
    "\n",
    "        xes = sum(1 if m == 'X' else 0 for m in mask)\n",
    "        count = 2**xes\n",
    "\n",
    "        values.append((value, count))"
   ]
  },
  {
   "cell_type": "code",
   "execution_count": 66,
   "metadata": {},
   "outputs": [
    {
     "data": {
      "text/plain": [
       "4892192840304"
      ]
     },
     "execution_count": 66,
     "metadata": {},
     "output_type": "execute_result"
    }
   ],
   "source": [
    "sum(value*count for value, count in values)"
   ]
  },
  {
   "cell_type": "markdown",
   "metadata": {},
   "source": [
    "Wrong."
   ]
  },
  {
   "cell_type": "markdown",
   "metadata": {},
   "source": [
    "# Part 2"
   ]
  },
  {
   "cell_type": "code",
   "execution_count": 67,
   "metadata": {},
   "outputs": [],
   "source": [
    "from itertools import product"
   ]
  },
  {
   "cell_type": "code",
   "execution_count": 70,
   "metadata": {},
   "outputs": [
    {
     "data": {
      "text/plain": [
       "[('1', '1'), ('1', '0'), ('0', '1'), ('0', '0')]"
      ]
     },
     "execution_count": 70,
     "metadata": {},
     "output_type": "execute_result"
    }
   ],
   "source": [
    "list(product(['1', '0'], repeat=2))"
   ]
  },
  {
   "cell_type": "code",
   "execution_count": 84,
   "metadata": {},
   "outputs": [],
   "source": [
    "bits = masked_addressbits"
   ]
  },
  {
   "cell_type": "code",
   "execution_count": 93,
   "metadata": {},
   "outputs": [],
   "source": [
    "def allpositions(bits):\n",
    "    xpos = [i  for i, b in enumerate(bits) if b == 'X']\n",
    "    for pattern in product(['0', '1'], repeat=len(xpos)):\n",
    "        newbits = list(bits)\n",
    "        for x, b in zip(xpos, pattern):\n",
    "            newbits[x] = b\n",
    "        yield int(''.join(newbits), 2)"
   ]
  },
  {
   "cell_type": "code",
   "execution_count": 102,
   "metadata": {},
   "outputs": [],
   "source": [
    "memory = defaultdict(int)\n",
    "with open('input.txt') as f:\n",
    "    for line in f:\n",
    "        if 'mask' in line:\n",
    "            mask = line.strip().split(' = ')[1]\n",
    "\n",
    "            continue\n",
    "            \n",
    "        address, value = line.strip().split(' = ')\n",
    "        address = int(address.split('[')[1][:-1])\n",
    "        addressbits = f'{address:036b}'\n",
    "        \n",
    "        value = int(value)\n",
    "\n",
    "        masked_addressbits = ''\n",
    "        for a, m in zip(addressbits, mask):\n",
    "            if m == '0':\n",
    "                r = a\n",
    "            elif m == '1':\n",
    "                r = '1'\n",
    "            elif m == 'X':\n",
    "                r = 'X'\n",
    "            else:\n",
    "                raise Exception\n",
    "                \n",
    "            masked_addressbits += r\n",
    "        \n",
    "#         print('address: ', addressbits)\n",
    "#         print('mask:    ', mask)\n",
    "#         print('result:  ', masked_addressbits)\n",
    "        \n",
    "        for position in allpositions(masked_addressbits):\n",
    "#             print(position)\n",
    "            memory[position] = value\n"
   ]
  },
  {
   "cell_type": "code",
   "execution_count": 104,
   "metadata": {},
   "outputs": [
    {
     "data": {
      "text/plain": [
       "4275496544925"
      ]
     },
     "execution_count": 104,
     "metadata": {},
     "output_type": "execute_result"
    }
   ],
   "source": [
    "sum(memory.values())"
   ]
  }
 ],
 "metadata": {
  "kernelspec": {
   "display_name": "Python 3",
   "language": "python",
   "name": "python3"
  },
  "language_info": {
   "codemirror_mode": {
    "name": "ipython",
    "version": 3
   },
   "file_extension": ".py",
   "mimetype": "text/x-python",
   "name": "python",
   "nbconvert_exporter": "python",
   "pygments_lexer": "ipython3",
   "version": "3.7.7"
  }
 },
 "nbformat": 4,
 "nbformat_minor": 4
}
