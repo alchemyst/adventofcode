{
 "cells": [
  {
   "cell_type": "code",
   "execution_count": 85,
   "metadata": {},
   "outputs": [],
   "source": [
    "import re"
   ]
  },
  {
   "cell_type": "code",
   "execution_count": 86,
   "metadata": {},
   "outputs": [],
   "source": [
    "matches = re.compile('(e|se|sw|w|nw|ne)')"
   ]
  },
  {
   "cell_type": "code",
   "execution_count": 87,
   "metadata": {},
   "outputs": [
    {
     "data": {
      "text/plain": [
       "['nw', 'w', 'sw', 'e', 'e']"
      ]
     },
     "execution_count": 87,
     "metadata": {},
     "output_type": "execute_result"
    }
   ],
   "source": [
    "matches.findall('nwwswee')"
   ]
  },
  {
   "cell_type": "code",
   "execution_count": 88,
   "metadata": {},
   "outputs": [],
   "source": [
    "movements = {\n",
    "    'e': complex(2, 0),\n",
    "    'se': complex(1, -1),\n",
    "    'sw': complex(-1, -1),\n",
    "    'w': complex(-2, 0),\n",
    "    'nw': complex(-1, 1),\n",
    "    'ne': complex(1, 1),\n",
    "}"
   ]
  },
  {
   "cell_type": "code",
   "execution_count": 89,
   "metadata": {},
   "outputs": [],
   "source": [
    "from collections import defaultdict"
   ]
  },
  {
   "cell_type": "markdown",
   "metadata": {},
   "source": [
    "# Part 1"
   ]
  },
  {
   "cell_type": "code",
   "execution_count": 103,
   "metadata": {},
   "outputs": [],
   "source": [
    "tiles = defaultdict(bool)\n",
    "\n",
    "position = complex(0, 0)\n",
    "\n",
    "with open('input.txt') as f:\n",
    "    for line in f:\n",
    "        line = line.strip()\n",
    "\n",
    "        instructions = matches.findall(line)\n",
    "\n",
    "        position = complex(0, 0)\n",
    "        for instruction in instructions:\n",
    "            position += movements[instruction]\n",
    "            \n",
    "        tiles[position] = not tiles[position]"
   ]
  },
  {
   "cell_type": "code",
   "execution_count": 104,
   "metadata": {},
   "outputs": [
    {
     "data": {
      "text/plain": [
       "312"
      ]
     },
     "execution_count": 104,
     "metadata": {},
     "output_type": "execute_result"
    }
   ],
   "source": [
    "sum(int(value) for value in tiles.values())"
   ]
  },
  {
   "cell_type": "markdown",
   "metadata": {},
   "source": [
    "# Part 2"
   ]
  },
  {
   "cell_type": "markdown",
   "metadata": {},
   "source": [
    "True tiles are black\n"
   ]
  },
  {
   "cell_type": "code",
   "execution_count": 105,
   "metadata": {},
   "outputs": [],
   "source": [
    "for day in range(100):\n",
    "    fliptowhite = []\n",
    "    white_touched_by_black = defaultdict(int)\n",
    "    for position, tile in list(tiles.items()):\n",
    "        if tile: # this tile is black\n",
    "            blackneighbours = 0\n",
    "            for movement in movements.values():\n",
    "                otherposition = position + movement\n",
    "                othertile = tiles[otherposition]\n",
    "                if othertile: # other tile is black\n",
    "                    blackneighbours += 1\n",
    "                else:  # other tile is white\n",
    "                    white_touched_by_black[otherposition] += 1\n",
    "            if blackneighbours == 0 or 2 < blackneighbours:\n",
    "                fliptowhite.append(position)\n",
    "\n",
    "    for position in fliptowhite:\n",
    "#         assert tiles[position] == True\n",
    "        tiles[position] = False\n",
    "\n",
    "    for position, count in white_touched_by_black.items():\n",
    "#         assert tiles[position] == False\n",
    "        if count == 2:\n",
    "            tiles[position] = True\n",
    "\n",
    "    blacktiles = sum(int(value) for value in tiles.values())\n",
    "    \n",
    "#     print(f'Day {day + 1}:', blacktiles)"
   ]
  },
  {
   "cell_type": "code",
   "execution_count": 106,
   "metadata": {},
   "outputs": [
    {
     "name": "stdout",
     "output_type": "stream",
     "text": [
      "3733\n"
     ]
    }
   ],
   "source": [
    "print(blacktiles)"
   ]
  },
  {
   "cell_type": "code",
   "execution_count": null,
   "metadata": {},
   "outputs": [],
   "source": []
  }
 ],
 "metadata": {
  "kernelspec": {
   "display_name": "Python 3",
   "language": "python",
   "name": "python3"
  },
  "language_info": {
   "codemirror_mode": {
    "name": "ipython",
    "version": 3
   },
   "file_extension": ".py",
   "mimetype": "text/x-python",
   "name": "python",
   "nbconvert_exporter": "python",
   "pygments_lexer": "ipython3",
   "version": "3.7.7"
  }
 },
 "nbformat": 4,
 "nbformat_minor": 4
}
