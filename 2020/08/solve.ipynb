{
 "cells": [
  {
   "cell_type": "code",
   "execution_count": 1,
   "metadata": {},
   "outputs": [],
   "source": [
    "codes = [line.strip().split() for line in open('input.txt')]"
   ]
  },
  {
   "cell_type": "code",
   "execution_count": 2,
   "metadata": {},
   "outputs": [
    {
     "data": {
      "text/plain": [
       "['jmp', '+301']"
      ]
     },
     "execution_count": 2,
     "metadata": {},
     "output_type": "execute_result"
    }
   ],
   "source": [
    "codes[0]"
   ]
  },
  {
   "cell_type": "code",
   "execution_count": 8,
   "metadata": {},
   "outputs": [],
   "source": [
    "# break on loop detection"
   ]
  },
  {
   "cell_type": "code",
   "execution_count": 23,
   "metadata": {},
   "outputs": [],
   "source": [
    "def evalcodes(codes):\n",
    "    visits = [0]*len(codes)\n",
    "\n",
    "    ip = 0\n",
    "\n",
    "    acc = 0\n",
    "\n",
    "    while True:\n",
    "        opcode, arg = codes[ip]\n",
    "        arg = int(arg)\n",
    "        acc_before = acc\n",
    "        if visits[ip] == 1:\n",
    "            return 'loop', acc\n",
    "        \n",
    "        visits[ip] += 1\n",
    "\n",
    "        if opcode == 'nop':\n",
    "            ip += 1\n",
    "        elif opcode == 'acc':\n",
    "            acc += arg\n",
    "            ip += 1\n",
    "        elif opcode == 'jmp':\n",
    "            ip += arg\n",
    "            \n",
    "        if ip == len(codes):\n",
    "            return 'terminate', acc        "
   ]
  },
  {
   "cell_type": "code",
   "execution_count": 28,
   "metadata": {},
   "outputs": [
    {
     "data": {
      "text/plain": [
       "('loop', 1451)"
      ]
     },
     "execution_count": 28,
     "metadata": {},
     "output_type": "execute_result"
    }
   ],
   "source": [
    "evalcodes(codes)"
   ]
  },
  {
   "cell_type": "code",
   "execution_count": 24,
   "metadata": {},
   "outputs": [
    {
     "name": "stdout",
     "output_type": "stream",
     "text": [
      "97 µs ± 805 ns per loop (mean ± std. dev. of 7 runs, 10000 loops each)\n"
     ]
    }
   ],
   "source": [
    "%%timeit\n",
    "evalcodes(codes)"
   ]
  },
  {
   "cell_type": "code",
   "execution_count": 25,
   "metadata": {},
   "outputs": [],
   "source": [
    "for i, (opcode, arg) in enumerate(codes):\n",
    "    newcodes = codes.copy()\n",
    "    if opcode == 'jmp':\n",
    "        newcodes[i] = ['nop', arg]\n",
    "    if opcode == 'nop':\n",
    "        newcodes[i] = ['jmp', arg]\n",
    "    \n",
    "    ret, acc = evalcodes(newcodes)\n",
    "    if ret == 'terminate':\n",
    "        break"
   ]
  },
  {
   "cell_type": "code",
   "execution_count": 27,
   "metadata": {},
   "outputs": [
    {
     "data": {
      "text/plain": [
       "'terminate'"
      ]
     },
     "execution_count": 27,
     "metadata": {},
     "output_type": "execute_result"
    }
   ],
   "source": [
    "ret"
   ]
  },
  {
   "cell_type": "code",
   "execution_count": 26,
   "metadata": {},
   "outputs": [
    {
     "data": {
      "text/plain": [
       "1160"
      ]
     },
     "execution_count": 26,
     "metadata": {},
     "output_type": "execute_result"
    }
   ],
   "source": [
    "acc"
   ]
  }
 ],
 "metadata": {
  "kernelspec": {
   "display_name": "Python 3",
   "language": "python",
   "name": "python3"
  },
  "language_info": {
   "codemirror_mode": {
    "name": "ipython",
    "version": 3
   },
   "file_extension": ".py",
   "mimetype": "text/x-python",
   "name": "python",
   "nbconvert_exporter": "python",
   "pygments_lexer": "ipython3",
   "version": "3.7.7"
  }
 },
 "nbformat": 4,
 "nbformat_minor": 4
}
