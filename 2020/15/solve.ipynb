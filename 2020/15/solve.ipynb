{
 "cells": [
  {
   "cell_type": "code",
   "execution_count": 1,
   "metadata": {},
   "outputs": [],
   "source": [
    "from tqdm.auto import tqdm"
   ]
  },
  {
   "cell_type": "code",
   "execution_count": 2,
   "metadata": {},
   "outputs": [
    {
     "data": {
      "application/vnd.jupyter.widget-view+json": {
       "model_id": "9365b7e8b9334e60ac57781ff33caa37",
       "version_major": 2,
       "version_minor": 0
      },
      "text/plain": [
       "HBox(children=(HTML(value=''), FloatProgress(value=0.0, max=29999994.0), HTML(value='')))"
      ]
     },
     "metadata": {},
     "output_type": "display_data"
    },
    {
     "name": "stdout",
     "output_type": "stream",
     "text": [
      "\n",
      "62714\n"
     ]
    }
   ],
   "source": [
    "lastseen = {}\n",
    "\n",
    "numbers = [2,0,1,9,5,19]\n",
    "# numbers = [0,3,6]\n",
    "# numbers = [1,3,2]\n",
    "# numbers = [2,1,3]\n",
    "\n",
    "for turn, number in enumerate(numbers, 1):\n",
    "#     print(turn, number)\n",
    "    lastseen[number] = turn\n",
    "    lastspoken = number\n",
    "    seen_in_last_turn = False\n",
    "\n",
    "for thisturn in tqdm(range(turn+1, 30000000 + 1)):\n",
    "    if seen_in_last_turn:\n",
    "        newnumber = thisturn - 1 - previousturn \n",
    "    else:\n",
    "        newnumber = 0\n",
    "        \n",
    "    numbers.append(newnumber)\n",
    "    seen_in_last_turn = newnumber in lastseen\n",
    "\n",
    "    if seen_in_last_turn:\n",
    "        previousturn = lastseen[newnumber]\n",
    "\n",
    "    lastseen[newnumber] = thisturn\n",
    "    lastspoken = newnumber\n",
    "        \n",
    "print(lastspoken)"
   ]
  },
  {
   "cell_type": "code",
   "execution_count": 3,
   "metadata": {},
   "outputs": [
    {
     "name": "stdout",
     "output_type": "stream",
     "text": [
      "30000000\n"
     ]
    }
   ],
   "source": [
    "print(len(numbers))"
   ]
  },
  {
   "cell_type": "code",
   "execution_count": 4,
   "metadata": {},
   "outputs": [
    {
     "name": "stdout",
     "output_type": "stream",
     "text": [
      "62714\n"
     ]
    }
   ],
   "source": [
    "print(numbers[-1])"
   ]
  }
 ],
 "metadata": {
  "kernelspec": {
   "display_name": "Python 3",
   "language": "python",
   "name": "python3"
  },
  "language_info": {
   "codemirror_mode": {
    "name": "ipython",
    "version": 3
   },
   "file_extension": ".py",
   "mimetype": "text/x-python",
   "name": "python",
   "nbconvert_exporter": "python",
   "pygments_lexer": "ipython3",
   "version": "3.7.7"
  }
 },
 "nbformat": 4,
 "nbformat_minor": 4
}
