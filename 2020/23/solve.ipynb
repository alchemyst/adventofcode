{
 "cells": [
  {
   "cell_type": "code",
   "execution_count": 4,
   "metadata": {},
   "outputs": [],
   "source": [
    "realinput = '653427918'\n",
    "testinput = '389125467'"
   ]
  },
  {
   "cell_type": "code",
   "execution_count": 5,
   "metadata": {},
   "outputs": [],
   "source": [
    "import numpy as np"
   ]
  },
  {
   "cell_type": "markdown",
   "metadata": {},
   "source": [
    "# Part 1"
   ]
  },
  {
   "cell_type": "code",
   "execution_count": 255,
   "metadata": {},
   "outputs": [],
   "source": [
    "cups = np.array([int(v) for v in realinput])"
   ]
  },
  {
   "cell_type": "code",
   "execution_count": 256,
   "metadata": {},
   "outputs": [],
   "source": [
    "indices = np.arange(len(cups))"
   ]
  },
  {
   "cell_type": "code",
   "execution_count": 257,
   "metadata": {},
   "outputs": [],
   "source": [
    "debug = False"
   ]
  },
  {
   "cell_type": "code",
   "execution_count": 258,
   "metadata": {},
   "outputs": [],
   "source": [
    "Ntake = 3"
   ]
  },
  {
   "cell_type": "code",
   "execution_count": 259,
   "metadata": {},
   "outputs": [],
   "source": [
    "for move in range(1, 100+1):\n",
    "    if debug: \n",
    "        print(f'-- move {move} --')\n",
    "        print('cups:    ', cups)\n",
    "        print('indices: ', indices)\n",
    "\n",
    "    lowest_cup = min(cups)\n",
    "    highest_cup = max(cups)\n",
    "\n",
    "    [currentcup_i], = np.nonzero(indices == 0)\n",
    "    currentcup_v = cups[currentcup_i]\n",
    "\n",
    "    selected = (1 <= indices) & (indices <= Ntake)\n",
    "    pick_up = cups[selected][np.argsort(indices[selected])]\n",
    "    cups = cups[~selected]\n",
    "\n",
    "    if debug: print('pick up: ', pick_up)\n",
    "\n",
    "    destination_v = currentcup_v\n",
    "\n",
    "    while True:\n",
    "        destination_v -= 1\n",
    "        if destination_v < lowest_cup:\n",
    "            destination_v = highest_cup\n",
    "        if destination_v in cups:\n",
    "            [destination_index], = np.nonzero(cups == destination_v)\n",
    "            destination_index += 1\n",
    "            break\n",
    "\n",
    "    if debug: print('destination:', destination_index)\n",
    "\n",
    "    cups = np.concatenate((cups[:destination_index], pick_up, cups[destination_index:]))\n",
    "    [currentcup_i], = np.nonzero(cups == currentcup_v)\n",
    "    indices = (np.arange(len(cups)) - currentcup_i - 1) % len(cups)\n",
    "    \n",
    "    if debug: print()"
   ]
  },
  {
   "cell_type": "code",
   "execution_count": 260,
   "metadata": {},
   "outputs": [
    {
     "data": {
      "text/plain": [
       "'76952348'"
      ]
     },
     "execution_count": 260,
     "metadata": {},
     "output_type": "execute_result"
    }
   ],
   "source": [
    "[one_i], = np.nonzero(cups == 1)\n",
    "''.join(str(n) for n in list(cups[one_i+1:]) + list(cups[:one_i]))"
   ]
  },
  {
   "cell_type": "markdown",
   "metadata": {},
   "source": [
    "# Part 2 unoptimized"
   ]
  },
  {
   "cell_type": "code",
   "execution_count": 21,
   "metadata": {},
   "outputs": [],
   "source": [
    "Nvalues = 1_000_000"
   ]
  },
  {
   "cell_type": "code",
   "execution_count": 22,
   "metadata": {},
   "outputs": [],
   "source": [
    "Nmoves = 10"
   ]
  },
  {
   "cell_type": "code",
   "execution_count": 23,
   "metadata": {},
   "outputs": [],
   "source": [
    "cups = np.array([int(v) for v in realinput])"
   ]
  },
  {
   "cell_type": "code",
   "execution_count": 24,
   "metadata": {},
   "outputs": [],
   "source": [
    "highest_cup = max(cups)"
   ]
  },
  {
   "cell_type": "code",
   "execution_count": 25,
   "metadata": {},
   "outputs": [],
   "source": [
    "cups = np.concatenate((cups, np.arange(highest_cup+1, Nvalues + 1)))"
   ]
  },
  {
   "cell_type": "code",
   "execution_count": 26,
   "metadata": {},
   "outputs": [
    {
     "name": "stdout",
     "output_type": "stream",
     "text": [
      "-- move 1 --\n",
      "cups:     [ 6  5  3  4  2  7  9  1  8 10 11 12 13 14 15 16 17 18 19 20 21 22 23 24\n",
      " 25 26 27 28 29 30]\n",
      "indices:  [ 0  1  2  3  4  5  6  7  8  9 10 11 12 13 14 15 16 17 18 19 20 21 22 23\n",
      " 24 25 26 27 28 29]\n",
      "pick up:  [5 3 4]\n",
      "destination: 2\n",
      "-- move 2 --\n",
      "cups:     [ 6  2  5  3  4  7  9  1  8 10 11 12 13 14 15 16 17 18 19 20 21 22 23 24\n",
      " 25 26 27 28 29 30]\n",
      "indices:  [999999      0      1      2      3      4      5      6      7      8\n",
      "      9     10     11     12     13     14     15     16     17     18\n",
      "     19     20     21     22     23     24     25     26     27     28]\n",
      "pick up:  [5 3 4]\n",
      "destination: 1\n",
      "-- move 3 --\n",
      "cups:     [ 6  2  7  9  1  5  3  4  8 10 11 12 13 14 15 16 17 18 19 20 21 22 23 24\n",
      " 25 26 27 28 29 30]\n",
      "indices:  [999998 999999      0      1      2      3      4      5      6      7\n",
      "      8      9     10     11     12     13     14     15     16     17\n",
      "     18     19     20     21     22     23     24     25     26     27]\n",
      "pick up:  [9 1 5]\n",
      "destination: 6\n",
      "-- move 4 --\n",
      "cups:     [ 6  9  1  5  2  7  3  4  8 10 11 12 13 14 15 16 17 18 19 20 21 22 23 24\n",
      " 25 26 27 28 29 30]\n",
      "indices:  [999994 999995 999996 999997 999998 999999      0      1      2      3\n",
      "      4      5      6      7      8      9     10     11     12     13\n",
      "     14     15     16     17     18     19     20     21     22     23]\n",
      "pick up:  [ 4  8 10]\n",
      "destination: 2\n",
      "-- move 5 --\n",
      "cups:     [ 6  9  1  5  2  4  8 10  7  3 11 12 13 14 15 16 17 18 19 20 21 22 23 24\n",
      " 25 26 27 28 29 30]\n",
      "indices:  [999990 999991 999992 999993 999994 999995 999996 999997 999998 999999\n",
      "      0      1      2      3      4      5      6      7      8      9\n",
      "     10     11     12     13     14     15     16     17     18     19]\n",
      "pick up:  [12 13 14]\n",
      "destination: 10\n",
      "-- move 6 --\n",
      "cups:     [ 6  9  1  5  2  4  8 10 12 13 14  7  3 11 15 16 17 18 19 20 21 22 23 24\n",
      " 25 26 27 28 29 30]\n",
      "indices:  [999986 999987 999988 999989 999990 999991 999992 999993 999994 999995\n",
      " 999996 999997 999998 999999      0      1      2      3      4      5\n",
      "      6      7      8      9     10     11     12     13     14     15]\n",
      "pick up:  [16 17 18]\n",
      "destination: 14\n",
      "-- move 7 --\n",
      "cups:     [ 6  9  1  5  2  4  8 10 12 13 14 16 17 18  7  3 11 15 19 20 21 22 23 24\n",
      " 25 26 27 28 29 30]\n",
      "indices:  [999982 999983 999984 999985 999986 999987 999988 999989 999990 999991\n",
      " 999992 999993 999994 999995 999996 999997 999998 999999      0      1\n",
      "      2      3      4      5      6      7      8      9     10     11]\n",
      "pick up:  [20 21 22]\n",
      "destination: 18\n",
      "-- move 8 --\n",
      "cups:     [ 6  9  1  5  2  4  8 10 12 13 14 16 17 18 20 21 22  7  3 11 15 19 23 24\n",
      " 25 26 27 28 29 30]\n",
      "indices:  [999978 999979 999980 999981 999982 999983 999984 999985 999986 999987\n",
      " 999988 999989 999990 999991 999992 999993 999994 999995 999996 999997\n",
      " 999998 999999      0      1      2      3      4      5      6      7]\n",
      "pick up:  [24 25 26]\n",
      "destination: 22\n",
      "-- move 9 --\n",
      "cups:     [ 6  9  1  5  2  4  8 10 12 13 14 16 17 18 20 21 22 24 25 26  7  3 11 15\n",
      " 19 23 27 28 29 30]\n",
      "indices:  [999974 999975 999976 999977 999978 999979 999980 999981 999982 999983\n",
      " 999984 999985 999986 999987 999988 999989 999990 999991 999992 999993\n",
      " 999994 999995 999996 999997 999998 999999      0      1      2      3]\n",
      "pick up:  [28 29 30]\n",
      "destination: 26\n",
      "-- move 10 --\n",
      "cups:     [ 6  9  1  5  2  4  8 10 12 13 14 16 17 18 20 21 22 24 25 26 28 29 30  7\n",
      "  3 11 15 19 23 27]\n",
      "indices:  [999970 999971 999972 999973 999974 999975 999976 999977 999978 999979\n",
      " 999980 999981 999982 999983 999984 999985 999986 999987 999988 999989\n",
      " 999990 999991 999992 999993 999994 999995 999996 999997 999998 999999]\n",
      "pick up:  [32 33 34]\n",
      "destination: 30\n"
     ]
    }
   ],
   "source": [
    "# @numba.jit\n",
    "# def play(cups, Nmoves):\n",
    "#     cups = cups.copy()\n",
    "indices = np.arange(len(cups))\n",
    "\n",
    "debug = True\n",
    "\n",
    "Ntake = 3\n",
    "\n",
    "lowest_cup = min(cups)\n",
    "highest_cup = max(cups)\n",
    "\n",
    "for move in range(1, Nmoves+1):\n",
    "    if debug: \n",
    "        print(f'-- move {move} --')\n",
    "        print('cups:    ', cups[:30])\n",
    "        print('indices: ', indices[:30])\n",
    "\n",
    "    [currentcup_i], = np.nonzero(indices == 0)\n",
    "    currentcup_v = cups[currentcup_i]\n",
    "\n",
    "    selected = (1 <= indices) & (indices <= Ntake)\n",
    "    pick_up = cups[selected][np.argsort(indices[selected])]\n",
    "    cups = cups[~selected]\n",
    "\n",
    "    if debug: print('pick up: ', pick_up)\n",
    "\n",
    "    destination_v = currentcup_v\n",
    "\n",
    "    while True:\n",
    "        destination_v -= 1\n",
    "        if destination_v < lowest_cup:\n",
    "            destination_v = highest_cup\n",
    "        if (destination_v == cups).any():\n",
    "            [destination_index], = np.nonzero(cups == destination_v)\n",
    "            destination_index += 1\n",
    "            break\n",
    "    print('destination:', destination_v)\n",
    "            \n",
    "    cups = np.concatenate((cups[:destination_index], pick_up, cups[destination_index:]))\n",
    "    [currentcup_i], = np.nonzero(cups == currentcup_v)\n",
    "    indices = (np.arange(len(cups)) - currentcup_i - 1) % len(cups)\n",
    "#     return cups"
   ]
  },
  {
   "cell_type": "code",
   "execution_count": null,
   "metadata": {},
   "outputs": [],
   "source": []
  },
  {
   "cell_type": "code",
   "execution_count": null,
   "metadata": {},
   "outputs": [],
   "source": [
    "# %%time\n",
    "cups = play(cups, Nmoves)"
   ]
  },
  {
   "cell_type": "code",
   "execution_count": null,
   "metadata": {},
   "outputs": [],
   "source": [
    "[one_i], = np.nonzero(cups == 1)"
   ]
  },
  {
   "cell_type": "code",
   "execution_count": null,
   "metadata": {},
   "outputs": [],
   "source": [
    "np.prod(cups.take(one_i + np.arange(2) + 1, mode='wrap'))"
   ]
  },
  {
   "cell_type": "markdown",
   "metadata": {},
   "source": [
    "# Part 2"
   ]
  },
  {
   "cell_type": "code",
   "execution_count": 273,
   "metadata": {},
   "outputs": [],
   "source": [
    "Nvalues = 1_000_000"
   ]
  },
  {
   "cell_type": "code",
   "execution_count": 274,
   "metadata": {},
   "outputs": [],
   "source": [
    "cups = np.array([int(v) for v in realinput])"
   ]
  },
  {
   "cell_type": "code",
   "execution_count": 275,
   "metadata": {},
   "outputs": [],
   "source": [
    "short_locations = np.zeros(len(cups) + 1).astype(int)"
   ]
  },
  {
   "cell_type": "code",
   "execution_count": 276,
   "metadata": {},
   "outputs": [],
   "source": [
    "short_locations[cups] = np.arange(len(cups))"
   ]
  },
  {
   "cell_type": "code",
   "execution_count": 277,
   "metadata": {},
   "outputs": [],
   "source": [
    "locations = np.arange(Nvalues+2) - 1"
   ]
  },
  {
   "cell_type": "code",
   "execution_count": 278,
   "metadata": {},
   "outputs": [],
   "source": [
    "locations[:len(cups)+1] = short_locations"
   ]
  },
  {
   "cell_type": "code",
   "execution_count": 279,
   "metadata": {},
   "outputs": [],
   "source": [
    "locations = locations.tolist()"
   ]
  },
  {
   "cell_type": "code",
   "execution_count": 280,
   "metadata": {},
   "outputs": [],
   "source": [
    "cups = np.concatenate((cups, np.arange(highest_cup+1, Nvalues + 1)))"
   ]
  },
  {
   "cell_type": "code",
   "execution_count": 281,
   "metadata": {},
   "outputs": [],
   "source": [
    "lowest_cup = min(cups)\n",
    "highest_cup = max(cups)"
   ]
  },
  {
   "cell_type": "code",
   "execution_count": 282,
   "metadata": {},
   "outputs": [],
   "source": [
    "Nmoves = 10_000_000"
   ]
  },
  {
   "cell_type": "code",
   "execution_count": 283,
   "metadata": {},
   "outputs": [],
   "source": [
    "from tqdm.auto import tqdm"
   ]
  },
  {
   "cell_type": "code",
   "execution_count": 284,
   "metadata": {},
   "outputs": [],
   "source": [
    "import numba"
   ]
  },
  {
   "cell_type": "code",
   "execution_count": 285,
   "metadata": {},
   "outputs": [],
   "source": [
    "debug = False"
   ]
  },
  {
   "cell_type": "code",
   "execution_count": 286,
   "metadata": {},
   "outputs": [
    {
     "data": {
      "application/vnd.jupyter.widget-view+json": {
       "model_id": "75a0bbf769e54df882fe1f8a62605a5c",
       "version_major": 2,
       "version_minor": 0
      },
      "text/plain": [
       "HBox(children=(HTML(value=''), FloatProgress(value=0.0, max=10000000.0), HTML(value='')))"
      ]
     },
     "metadata": {},
     "output_type": "display_data"
    },
    {
     "name": "stdout",
     "output_type": "stream",
     "text": [
      "\n"
     ]
    },
    {
     "ename": "KeyboardInterrupt",
     "evalue": "",
     "output_type": "error",
     "traceback": [
      "\u001b[0;31m---------------------------------------------------------------------------\u001b[0m",
      "\u001b[0;31mKeyboardInterrupt\u001b[0m                         Traceback (most recent call last)",
      "\u001b[0;32m<ipython-input-286-be70c78b7ddd>\u001b[0m in \u001b[0;36m<module>\u001b[0;34m\u001b[0m\n\u001b[1;32m     37\u001b[0m     \u001b[0;32mif\u001b[0m \u001b[0mdebug\u001b[0m\u001b[0;34m:\u001b[0m \u001b[0mprint\u001b[0m\u001b[0;34m(\u001b[0m\u001b[0;34m'destination_v:'\u001b[0m\u001b[0;34m,\u001b[0m \u001b[0mdestination_v\u001b[0m\u001b[0;34m)\u001b[0m\u001b[0;34m\u001b[0m\u001b[0;34m\u001b[0m\u001b[0m\n\u001b[1;32m     38\u001b[0m \u001b[0;34m\u001b[0m\u001b[0m\n\u001b[0;32m---> 39\u001b[0;31m     \u001b[0mbuffer\u001b[0m \u001b[0;34m=\u001b[0m \u001b[0;34m[\u001b[0m\u001b[0;34m]\u001b[0m\u001b[0;34m\u001b[0m\u001b[0;34m\u001b[0m\u001b[0m\n\u001b[0m\u001b[1;32m     40\u001b[0m     \u001b[0mpositions\u001b[0m \u001b[0;34m=\u001b[0m \u001b[0mpickup_i\u001b[0m\u001b[0;34m.\u001b[0m\u001b[0mtolist\u001b[0m\u001b[0;34m(\u001b[0m\u001b[0;34m)\u001b[0m\u001b[0;34m\u001b[0m\u001b[0;34m\u001b[0m\u001b[0m\n\u001b[1;32m     41\u001b[0m \u001b[0;34m\u001b[0m\u001b[0m\n",
      "\u001b[0;31mKeyboardInterrupt\u001b[0m: "
     ]
    }
   ],
   "source": [
    "# @numba.jit\n",
    "# def play(cups, Nmoves):\n",
    "Ntake = 3\n",
    "Ncups = len(cups)\n",
    "take = np.arange(3)\n",
    "cups = cups.copy()\n",
    "currentcup_i = 0\n",
    "\n",
    "lowest_cup = min(cups)\n",
    "highest_cup = max(cups)\n",
    "\n",
    "for move in tqdm(range(1, Nmoves+1)):\n",
    "    if debug: \n",
    "        print(f'-- move {move} --')\n",
    "        print('cups:    ', ' '.join(f'({v})' if i == currentcup_i else f'{v}' for i, v in enumerate(cups[:30])))\n",
    "\n",
    "    currentcup_v = cups[currentcup_i]\n",
    "\n",
    "    pickup_i = (currentcup_i + take + 1) % Ncups\n",
    "    pick_up = cups[pickup_i]\n",
    "\n",
    "    if debug: print('pick up: ', pick_up)\n",
    "    \n",
    "\n",
    "    \n",
    "    destination_v = currentcup_v\n",
    "\n",
    "    while True:\n",
    "        destination_v -= 1\n",
    "        if destination_v < lowest_cup:\n",
    "            destination_v = highest_cup+1\n",
    "            continue\n",
    "        if (destination_v == pick_up).any():\n",
    "            continue\n",
    "        break\n",
    "\n",
    "    if debug: print('destination_v:', destination_v)\n",
    "        \n",
    "    buffer = []\n",
    "    positions = pickup_i.tolist()\n",
    "\n",
    "    destination_i = (currentcup_i + Ntake + 1) % Ncupsc\n",
    "    while True:\n",
    "        cup = cups[destination_i]\n",
    "        positions.append(destination_i)\n",
    "        buffer.append(cup)\n",
    "        if cup == destination_v:\n",
    "            break\n",
    "        destination_i = (destination_i + 1) % Ncups\n",
    "\n",
    "    buffer += pick_up.tolist()\n",
    "\n",
    "    if debug:\n",
    "        print('buffer:', buffer)\n",
    "        print('positions:', positions)\n",
    "\n",
    "    cups[positions] = buffer\n",
    "    currentcup_i = (currentcup_i + 1) % Ncups\n",
    "\n",
    "# return cups"
   ]
  },
  {
   "cell_type": "code",
   "execution_count": 271,
   "metadata": {},
   "outputs": [
    {
     "ename": "NameError",
     "evalue": "name 'play' is not defined",
     "output_type": "error",
     "traceback": [
      "\u001b[0;31m---------------------------------------------------------------------------\u001b[0m",
      "\u001b[0;31mNameError\u001b[0m                                 Traceback (most recent call last)",
      "\u001b[0;32m<timed exec>\u001b[0m in \u001b[0;36m<module>\u001b[0;34m\u001b[0m\n",
      "\u001b[0;31mNameError\u001b[0m: name 'play' is not defined"
     ]
    }
   ],
   "source": [
    "%%time\n",
    "cups = play(cups, Nmoves)"
   ]
  },
  {
   "cell_type": "code",
   "execution_count": 272,
   "metadata": {},
   "outputs": [
    {
     "data": {
      "text/plain": [
       "'69428375'"
      ]
     },
     "execution_count": 272,
     "metadata": {},
     "output_type": "execute_result"
    }
   ],
   "source": [
    "[one_i], = np.nonzero(cups == 1)\n",
    "''.join(str(n) for n in list(cups[one_i+1:]) + list(cups[:one_i]))"
   ]
  },
  {
   "cell_type": "markdown",
   "metadata": {},
   "source": [
    "# Part 2\n",
    "Completely different data structure - custom linked list"
   ]
  },
  {
   "cell_type": "code",
   "execution_count": 484,
   "metadata": {},
   "outputs": [],
   "source": [
    "Nvalues = 1_000_000\n",
    "# Nvalues = 9"
   ]
  },
  {
   "cell_type": "code",
   "execution_count": 485,
   "metadata": {},
   "outputs": [],
   "source": [
    "class Cup:\n",
    "    def __init__(self, value):\n",
    "        self.value = value\n",
    "        self.next = None\n",
    "        \n",
    "    def __repr__(self):\n",
    "        return str(self.value)"
   ]
  },
  {
   "cell_type": "code",
   "execution_count": 486,
   "metadata": {},
   "outputs": [],
   "source": [
    "cups_by_value = {}"
   ]
  },
  {
   "cell_type": "code",
   "execution_count": 487,
   "metadata": {},
   "outputs": [],
   "source": [
    "numbers = list(range(1, Nvalues + 1))"
   ]
  },
  {
   "cell_type": "code",
   "execution_count": 488,
   "metadata": {},
   "outputs": [],
   "source": [
    "for i, v in enumerate(realinput):\n",
    "    numbers[i] = int(v)"
   ]
  },
  {
   "cell_type": "code",
   "execution_count": 489,
   "metadata": {},
   "outputs": [
    {
     "data": {
      "text/plain": [
       "[6, 5, 3, 4, 2, 7, 9, 1, 8, 10]"
      ]
     },
     "execution_count": 489,
     "metadata": {},
     "output_type": "execute_result"
    }
   ],
   "source": [
    "numbers[:10]"
   ]
  },
  {
   "cell_type": "code",
   "execution_count": 490,
   "metadata": {},
   "outputs": [],
   "source": [
    "previous_cup = None\n",
    "for number in numbers:\n",
    "    cup = Cup(number)\n",
    "    cups_by_value[number] = cup\n",
    "    if previous_cup:\n",
    "        previous_cup.next = cup\n",
    "    previous_cup = cup\n",
    "cup.next = current_cup = cups_by_value[numbers[0]]"
   ]
  },
  {
   "cell_type": "code",
   "execution_count": 491,
   "metadata": {},
   "outputs": [],
   "source": [
    "Nmoves = 10_000_000"
   ]
  },
  {
   "cell_type": "code",
   "execution_count": 492,
   "metadata": {},
   "outputs": [],
   "source": [
    "debug = False"
   ]
  },
  {
   "cell_type": "code",
   "execution_count": 493,
   "metadata": {},
   "outputs": [
    {
     "data": {
      "application/vnd.jupyter.widget-view+json": {
       "model_id": "ec080a1f502a4c10b204fbe2fb809ba5",
       "version_major": 2,
       "version_minor": 0
      },
      "text/plain": [
       "HBox(children=(HTML(value=''), FloatProgress(value=0.0, max=10000000.0), HTML(value='')))"
      ]
     },
     "metadata": {},
     "output_type": "display_data"
    },
    {
     "name": "stdout",
     "output_type": "stream",
     "text": [
      "\n"
     ]
    }
   ],
   "source": [
    "Ntake = 3\n",
    "\n",
    "for move in tqdm(range(1, Nmoves+1)):\n",
    "    pickup = []\n",
    "    pickup_set = set()\n",
    "    \n",
    "    \n",
    "    if debug:\n",
    "        print(f'-- move {move} --')\n",
    "        print('cups:', end='')\n",
    "\n",
    "        printcup = current_cup\n",
    "        while printcup.next != current_cup:\n",
    "            print(printcup, end=' ')\n",
    "            printcup = printcup.next\n",
    "        print(printcup, end=' ')\n",
    "\n",
    "        print()\n",
    "\n",
    "    \n",
    "    # The crab picks up the three cups that are immediately \n",
    "    # clockwise of the current cup.  \n",
    "    pickup_cup = current_cup.next\n",
    "    for _ in range(Ntake):\n",
    "        pickup.append(pickup_cup)\n",
    "        pickup_set.add(pickup_cup.value)\n",
    "        pickup_cup = pickup_cup.next\n",
    "\n",
    "    # They are removed from the circle;\n",
    "    # cup spacing is adjusted as necessary to maintain the circle.\n",
    "    current_cup.next = pickup_cup\n",
    "    \n",
    "    destination_v = current_cup.value\n",
    "\n",
    "    if debug: print('pick up:', pickup)\n",
    "        \n",
    "    while True:\n",
    "        destination_v -= 1\n",
    "        if destination_v < 1:\n",
    "            destination_v = Nvalues+1\n",
    "            continue\n",
    "        if destination_v in pickup_set:\n",
    "            continue\n",
    "        break\n",
    "\n",
    "    if debug: print('destination_v:', destination_v)\n",
    "        \n",
    "    destination_cup = cups_by_value[destination_v]\n",
    "    \n",
    "    # The crab places the cups it just picked up so that they are immediately clockwise of the destination cup. They keep the same order as when they were picked up.\n",
    "    endpoint = destination_cup.next\n",
    "    destination_cup.next = pickup[0]\n",
    "    pickup[-1].next = endpoint\n",
    "    \n",
    "    # The crab selects a new current cup: the cup which is immediately clockwise of the current cup.\n",
    "    current_cup = current_cup.next\n",
    "        \n",
    "    if debug:\n",
    "        print()\n",
    "    "
   ]
  },
  {
   "cell_type": "code",
   "execution_count": 494,
   "metadata": {},
   "outputs": [],
   "source": [
    "cup1 = cups_by_value[1]"
   ]
  },
  {
   "cell_type": "code",
   "execution_count": 495,
   "metadata": {},
   "outputs": [],
   "source": [
    "cupvalues = []\n",
    "cup = cup1\n",
    "for _ in range(2):\n",
    "    cup = cup.next\n",
    "    cupvalues.append(cup.value)"
   ]
  },
  {
   "cell_type": "code",
   "execution_count": 496,
   "metadata": {},
   "outputs": [
    {
     "data": {
      "text/plain": [
       "[864446, 84184]"
      ]
     },
     "execution_count": 496,
     "metadata": {},
     "output_type": "execute_result"
    }
   ],
   "source": [
    "cupvalues"
   ]
  },
  {
   "cell_type": "code",
   "execution_count": 497,
   "metadata": {},
   "outputs": [
    {
     "data": {
      "text/plain": [
       "72772522064"
      ]
     },
     "execution_count": 497,
     "metadata": {},
     "output_type": "execute_result"
    }
   ],
   "source": [
    "cupvalues[0]*cupvalues[1]"
   ]
  },
  {
   "cell_type": "code",
   "execution_count": null,
   "metadata": {},
   "outputs": [],
   "source": []
  }
 ],
 "metadata": {
  "kernelspec": {
   "display_name": "Python 3",
   "language": "python",
   "name": "python3"
  },
  "language_info": {
   "codemirror_mode": {
    "name": "ipython",
    "version": 3
   },
   "file_extension": ".py",
   "mimetype": "text/x-python",
   "name": "python",
   "nbconvert_exporter": "python",
   "pygments_lexer": "ipython3",
   "version": "3.7.7"
  }
 },
 "nbformat": 4,
 "nbformat_minor": 4
}
