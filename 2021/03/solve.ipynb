{
 "cells": [
  {
   "cell_type": "markdown",
   "metadata": {},
   "source": [
    "# Part 1"
   ]
  },
  {
   "cell_type": "code",
   "execution_count": 158,
   "metadata": {},
   "outputs": [],
   "source": [
    "import numpy as np\n",
    "from collections  import Counter"
   ]
  },
  {
   "cell_type": "code",
   "execution_count": 159,
   "metadata": {},
   "outputs": [],
   "source": [
    "debug = False"
   ]
  },
  {
   "cell_type": "code",
   "execution_count": 160,
   "metadata": {},
   "outputs": [],
   "source": [
    "with open('input.txt') as f:\n",
    "    data = [line.strip() for line in f]\n"
   ]
  },
  {
   "cell_type": "code",
   "execution_count": 161,
   "metadata": {},
   "outputs": [],
   "source": [
    "darr = np.array(list(map(list, data)))"
   ]
  },
  {
   "cell_type": "code",
   "execution_count": 162,
   "metadata": {},
   "outputs": [],
   "source": [
    "gamma_bits = []\n",
    "epsilon_bits = []"
   ]
  },
  {
   "cell_type": "code",
   "execution_count": 163,
   "metadata": {},
   "outputs": [],
   "source": [
    "for position in range(darr.shape[1]):\n",
    "    counts = Counter(darr[:, position]).most_common()\n",
    "    most_common_bit = counts[0][0]\n",
    "    least_common_bit = counts[-1][0]\n",
    "    gamma_bits.append(most_common_bit)\n",
    "    epsilon_bits.append(least_common_bit)"
   ]
  },
  {
   "cell_type": "code",
   "execution_count": 164,
   "metadata": {},
   "outputs": [
    {
     "data": {
      "text/plain": [
       "['0', '1', '0', '1', '1', '1', '0', '1', '0', '0', '1', '1']"
      ]
     },
     "execution_count": 164,
     "metadata": {},
     "output_type": "execute_result"
    }
   ],
   "source": [
    "gamma_bits"
   ]
  },
  {
   "cell_type": "code",
   "execution_count": 165,
   "metadata": {},
   "outputs": [
    {
     "data": {
      "text/plain": [
       "['1', '0', '1', '0', '0', '0', '1', '0', '1', '1', '0', '0']"
      ]
     },
     "execution_count": 165,
     "metadata": {},
     "output_type": "execute_result"
    }
   ],
   "source": [
    "epsilon_bits"
   ]
  },
  {
   "cell_type": "code",
   "execution_count": 166,
   "metadata": {},
   "outputs": [],
   "source": [
    "gamma_rate = int(''.join(gamma_bits), base=2)\n",
    "epsilon_rate = int(''.join(epsilon_bits), base=2)"
   ]
  },
  {
   "cell_type": "code",
   "execution_count": 167,
   "metadata": {},
   "outputs": [],
   "source": [
    "power_consumption = gamma_rate * epsilon_rate"
   ]
  },
  {
   "cell_type": "code",
   "execution_count": 168,
   "metadata": {},
   "outputs": [
    {
     "data": {
      "text/plain": [
       "3882564"
      ]
     },
     "execution_count": 168,
     "metadata": {},
     "output_type": "execute_result"
    }
   ],
   "source": [
    "power_consumption"
   ]
  },
  {
   "cell_type": "markdown",
   "metadata": {},
   "source": [
    "# Part 2"
   ]
  },
  {
   "cell_type": "code",
   "execution_count": 169,
   "metadata": {},
   "outputs": [],
   "source": [
    "def bitcount(it):\n",
    "    count = {'0': 0, '1': 0}\n",
    "\n",
    "    for i in it:\n",
    "        count[i] += 1\n",
    "\n",
    "    if count['0'] > count['1']:\n",
    "        return '0', '1', False\n",
    "    if count['1'] > count['0']:\n",
    "        return '1', '0', False\n",
    "    return '0', '1', True"
   ]
  },
  {
   "cell_type": "code",
   "execution_count": 170,
   "metadata": {},
   "outputs": [],
   "source": [
    "def apply_bit_criteria(data, hi, position):\n",
    "    most_common_bit, least_common_bit, same = bitcount([line[position] for line in data])\n",
    "\n",
    "    if hi:\n",
    "        bitvalue = '1' if same else most_common_bit\n",
    "    else:\n",
    "        bitvalue = '0' if same else least_common_bit\n",
    "\n",
    "    newdata = [line for line in data if line[position] == bitvalue]\n",
    "\n",
    "    return bitvalue, newdata\n",
    "    "
   ]
  },
  {
   "cell_type": "code",
   "execution_count": 171,
   "metadata": {},
   "outputs": [],
   "source": [
    "def bitcheck(data, hi):\n",
    "    runningdata = data.copy()\n",
    "\n",
    "    for position in range(darr.shape[1]):\n",
    "        bitvalue, runningdata = apply_bit_criteria(runningdata, hi, position)\n",
    "        if debug: print(bitvalue, runningdata)\n",
    "        if len(runningdata) <= 1:\n",
    "            break\n",
    "    return runningdata[0]"
   ]
  },
  {
   "cell_type": "code",
   "execution_count": 172,
   "metadata": {},
   "outputs": [],
   "source": [
    "oxygen_generator_rating = int(bitcheck(data, True), base=2)\n",
    "CO2_scrubber_rating = int(bitcheck(data, False), base=2)"
   ]
  },
  {
   "cell_type": "code",
   "execution_count": 173,
   "metadata": {},
   "outputs": [
    {
     "data": {
      "text/plain": [
       "3385170"
      ]
     },
     "execution_count": 173,
     "metadata": {},
     "output_type": "execute_result"
    }
   ],
   "source": [
    "oxygen_generator_rating*CO2_scrubber_rating"
   ]
  }
 ],
 "metadata": {
  "interpreter": {
   "hash": "8cd3ea5e8692ab4542739a1a85932b2d462d4e89e5664a5e322bd65c4cb2f9a0"
  },
  "kernelspec": {
   "display_name": "Python 3.9.7 64-bit ('base': conda)",
   "language": "python",
   "name": "python3"
  },
  "language_info": {
   "codemirror_mode": {
    "name": "ipython",
    "version": 3
   },
   "file_extension": ".py",
   "mimetype": "text/x-python",
   "name": "python",
   "nbconvert_exporter": "python",
   "pygments_lexer": "ipython3",
   "version": "3.9.7"
  },
  "orig_nbformat": 4
 },
 "nbformat": 4,
 "nbformat_minor": 2
}
